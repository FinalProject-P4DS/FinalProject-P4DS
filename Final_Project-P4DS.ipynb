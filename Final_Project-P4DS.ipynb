{
 "cells": [
  {
   "cell_type": "markdown",
   "id": "5d70c4be",
   "metadata": {},
   "source": [
    "# Đồ án cuối kỳ:\n",
    "(Cập nhật lần cuối: 04/07/2021)\\\n",
    "Nhóm 7\n",
    "Thành viên:\n",
    " 1. 18120062 - Nguyễn Hoàng Nam\n",
    " 2. 18120096 - Trương Đại Triều"
   ]
  },
  {
   "cell_type": "markdown",
   "id": "32767f5b",
   "metadata": {},
   "source": [
    "----"
   ]
  },
  {
   "cell_type": "markdown",
   "id": "c8e9b7c2",
   "metadata": {},
   "source": [
    "<h1>Bảng nội dung<span class=\"tocSkip\"></span></h1>\n",
    "<div class=\"toc\"><ul class=\"toc-item\"><li><span><a href=\"#Import-thư-viện\" data-toc-modified-id=\"Import-thư-viện-1\"><span class=\"toc-item-num\">1&nbsp;&nbsp;</span>Import thư viện</a></span></li><li><span><a href=\"#Thu-thập-dữ-liệu\" data-toc-modified-id=\"Thu-thập-dữ-liệu-2\"><span class=\"toc-item-num\">2&nbsp;&nbsp;</span>Thu thập dữ liệu</a></span></li><li><span><a href=\"#Khám-phá-dữ-liệu-&-tiền-xử-lý-dữ-liệu\" data-toc-modified-id=\"Khám-phá-dữ-liệu-&-tiền-xử-lý-dữ-liệu-3\"><span class=\"toc-item-num\">3&nbsp;&nbsp;</span>Khám phá dữ liệu & tiền xử lý dữ liệu</a></span></li><li><span><a href=\"#Phân-tích-để-trả-lời\" data-toc-modified-id=\"Phân-tích-để-trả-lời-4\"><span class=\"toc-item-num\">4&nbsp;&nbsp;</span>Phân tích để trả lời</a></span></li><li><span><a href=\"#Nhìn-lại-quá-trình-làm-đồ-án\" data-toc-modified-id=\"Nhìn-lại-quá-trình-làm-đồ-án-5\"><span class=\"toc-item-num\">5&nbsp;&nbsp;</span>Nhìn lại quá trình làm đồ án</a></span></li><li><span><a href=\"#Tài-liệu-tham-khảo\" data-toc-modified-id=\"Tài-liệu-tham-khảo-6\"><span class=\"toc-item-num\">6&nbsp;&nbsp;</span>Tài liệu tham khảo</a></span></li></ul></div>"
   ]
  },
  {
   "cell_type": "markdown",
   "id": "d3fb528f",
   "metadata": {},
   "source": [
    "---"
   ]
  },
  {
   "cell_type": "markdown",
   "id": "45dae090",
   "metadata": {},
   "source": [
    "# Import thư viện"
   ]
  },
  {
   "cell_type": "code",
   "execution_count": 2,
   "id": "b185b7c4",
   "metadata": {},
   "outputs": [],
   "source": [
    "import numpy as np\n",
    "import pandas as pd\n",
    "import matplotlib.pyplot as plt\n",
    "from datetime import datetime"
   ]
  },
  {
   "cell_type": "markdown",
   "id": "a9c2858c",
   "metadata": {},
   "source": [
    "---"
   ]
  },
  {
   "cell_type": "markdown",
   "id": "a7e048a3",
   "metadata": {},
   "source": [
    "# Thu thập dữ liệu"
   ]
  },
  {
   "cell_type": "markdown",
   "id": "4f25ddd5",
   "metadata": {},
   "source": [
    "## Dữ liệu của bạn là về chủ đề gì và bạn lấy từ nguồn nào?"
   ]
  },
  {
   "cell_type": "markdown",
   "id": "16f03934",
   "metadata": {},
   "source": [
    "Dữ liệu nói về việc tiêm vaccine phòng Covid-19, ở nhiều quốc gia được cập nhập thường xuyên. Dữ liệu được lưu tại \n",
    "\n",
    "(https://github.com/owid/covid-19-data/tree/master/public/data/vaccinations)"
   ]
  },
  {
   "cell_type": "markdown",
   "id": "58ee2660",
   "metadata": {},
   "source": [
    "##  Người ta có cho phép bạn dùng dữ liệu như này không?\n"
   ]
  },
  {
   "cell_type": "markdown",
   "id": "e9bf2b2f",
   "metadata": {},
   "source": [
    "License gốc được public trên trang [OurWorldInData](https://ourworldindata.org/coronavirus), các dataset được cấp quyền tái sử dụng tự do \"[Reuse our work freely](https://ourworldindata.org/coronavirus#licence)\". Đây là trang web cung cấp đầy đủ thông tin, về tình hình dịch bệnh, số ca nhiễm, tử vong, phân phối vacine trên từng quốc gia, vùng lãnh thổ. Trang web được phát triển bởi trường [Đại học Oxford, Anh](https://www.oxfordmartin.ox.ac.uk/global-development) và tổ chức phi lợi nhuận [Global Change Data Lab](https://global-change-data-lab.org/) "
   ]
  },
  {
   "cell_type": "markdown",
   "id": "de3f75db",
   "metadata": {},
   "source": [
    "\n",
    "##  Người ta thu thập dữ liệu như thế nào?"
   ]
  },
  {
   "cell_type": "markdown",
   "id": "671a6434",
   "metadata": {},
   "source": [
    "Dữ liệu được các tổ chức tại các quốc gia cập nhập hiện tại có đã bao gồm dữ liệu của 169 quốc gia."
   ]
  },
  {
   "cell_type": "markdown",
   "id": "ffb0962e",
   "metadata": {},
   "source": [
    "---"
   ]
  },
  {
   "cell_type": "markdown",
   "id": "117a736a",
   "metadata": {},
   "source": [
    "# Khám phá dữ liệu & tiền xử lý dữ liệu"
   ]
  },
  {
   "cell_type": "markdown",
   "id": "ac90e6ef",
   "metadata": {},
   "source": [
    "## Đọc dữ liệu từ file csv vào dataframe"
   ]
  },
  {
   "cell_type": "code",
   "execution_count": 3,
   "id": "b6ea0611",
   "metadata": {},
   "outputs": [
    {
     "data": {
      "text/html": [
       "<div>\n",
       "<style scoped>\n",
       "    .dataframe tbody tr th:only-of-type {\n",
       "        vertical-align: middle;\n",
       "    }\n",
       "\n",
       "    .dataframe tbody tr th {\n",
       "        vertical-align: top;\n",
       "    }\n",
       "\n",
       "    .dataframe thead th {\n",
       "        text-align: right;\n",
       "    }\n",
       "</style>\n",
       "<table border=\"1\" class=\"dataframe\">\n",
       "  <thead>\n",
       "    <tr style=\"text-align: right;\">\n",
       "      <th></th>\n",
       "      <th>location</th>\n",
       "      <th>iso_code</th>\n",
       "      <th>date</th>\n",
       "      <th>total_vaccinations</th>\n",
       "      <th>people_vaccinated</th>\n",
       "      <th>people_fully_vaccinated</th>\n",
       "      <th>daily_vaccinations_raw</th>\n",
       "      <th>daily_vaccinations</th>\n",
       "      <th>total_vaccinations_per_hundred</th>\n",
       "      <th>people_vaccinated_per_hundred</th>\n",
       "      <th>people_fully_vaccinated_per_hundred</th>\n",
       "      <th>daily_vaccinations_per_million</th>\n",
       "    </tr>\n",
       "  </thead>\n",
       "  <tbody>\n",
       "    <tr>\n",
       "      <th>0</th>\n",
       "      <td>Afghanistan</td>\n",
       "      <td>AFG</td>\n",
       "      <td>2021-02-22</td>\n",
       "      <td>0.0</td>\n",
       "      <td>0.0</td>\n",
       "      <td>NaN</td>\n",
       "      <td>NaN</td>\n",
       "      <td>NaN</td>\n",
       "      <td>0.0</td>\n",
       "      <td>0.0</td>\n",
       "      <td>NaN</td>\n",
       "      <td>NaN</td>\n",
       "    </tr>\n",
       "    <tr>\n",
       "      <th>1</th>\n",
       "      <td>Afghanistan</td>\n",
       "      <td>AFG</td>\n",
       "      <td>2021-02-23</td>\n",
       "      <td>NaN</td>\n",
       "      <td>NaN</td>\n",
       "      <td>NaN</td>\n",
       "      <td>NaN</td>\n",
       "      <td>1367.0</td>\n",
       "      <td>NaN</td>\n",
       "      <td>NaN</td>\n",
       "      <td>NaN</td>\n",
       "      <td>35.0</td>\n",
       "    </tr>\n",
       "    <tr>\n",
       "      <th>2</th>\n",
       "      <td>Afghanistan</td>\n",
       "      <td>AFG</td>\n",
       "      <td>2021-02-24</td>\n",
       "      <td>NaN</td>\n",
       "      <td>NaN</td>\n",
       "      <td>NaN</td>\n",
       "      <td>NaN</td>\n",
       "      <td>1367.0</td>\n",
       "      <td>NaN</td>\n",
       "      <td>NaN</td>\n",
       "      <td>NaN</td>\n",
       "      <td>35.0</td>\n",
       "    </tr>\n",
       "    <tr>\n",
       "      <th>3</th>\n",
       "      <td>Afghanistan</td>\n",
       "      <td>AFG</td>\n",
       "      <td>2021-02-25</td>\n",
       "      <td>NaN</td>\n",
       "      <td>NaN</td>\n",
       "      <td>NaN</td>\n",
       "      <td>NaN</td>\n",
       "      <td>1367.0</td>\n",
       "      <td>NaN</td>\n",
       "      <td>NaN</td>\n",
       "      <td>NaN</td>\n",
       "      <td>35.0</td>\n",
       "    </tr>\n",
       "    <tr>\n",
       "      <th>4</th>\n",
       "      <td>Afghanistan</td>\n",
       "      <td>AFG</td>\n",
       "      <td>2021-02-26</td>\n",
       "      <td>NaN</td>\n",
       "      <td>NaN</td>\n",
       "      <td>NaN</td>\n",
       "      <td>NaN</td>\n",
       "      <td>1367.0</td>\n",
       "      <td>NaN</td>\n",
       "      <td>NaN</td>\n",
       "      <td>NaN</td>\n",
       "      <td>35.0</td>\n",
       "    </tr>\n",
       "  </tbody>\n",
       "</table>\n",
       "</div>"
      ],
      "text/plain": [
       "      location iso_code        date  total_vaccinations  people_vaccinated  \\\n",
       "0  Afghanistan      AFG  2021-02-22                 0.0                0.0   \n",
       "1  Afghanistan      AFG  2021-02-23                 NaN                NaN   \n",
       "2  Afghanistan      AFG  2021-02-24                 NaN                NaN   \n",
       "3  Afghanistan      AFG  2021-02-25                 NaN                NaN   \n",
       "4  Afghanistan      AFG  2021-02-26                 NaN                NaN   \n",
       "\n",
       "   people_fully_vaccinated  daily_vaccinations_raw  daily_vaccinations  \\\n",
       "0                      NaN                     NaN                 NaN   \n",
       "1                      NaN                     NaN              1367.0   \n",
       "2                      NaN                     NaN              1367.0   \n",
       "3                      NaN                     NaN              1367.0   \n",
       "4                      NaN                     NaN              1367.0   \n",
       "\n",
       "   total_vaccinations_per_hundred  people_vaccinated_per_hundred  \\\n",
       "0                             0.0                            0.0   \n",
       "1                             NaN                            NaN   \n",
       "2                             NaN                            NaN   \n",
       "3                             NaN                            NaN   \n",
       "4                             NaN                            NaN   \n",
       "\n",
       "   people_fully_vaccinated_per_hundred  daily_vaccinations_per_million  \n",
       "0                                  NaN                             NaN  \n",
       "1                                  NaN                            35.0  \n",
       "2                                  NaN                            35.0  \n",
       "3                                  NaN                            35.0  \n",
       "4                                  NaN                            35.0  "
      ]
     },
     "execution_count": 3,
     "metadata": {},
     "output_type": "execute_result"
    }
   ],
   "source": [
    "vaccinations=pd.read_csv('data.csv')\n",
    "vaccinations.head()"
   ]
  },
  {
   "cell_type": "markdown",
   "id": "cfbed169",
   "metadata": {},
   "source": [
    "## Dữ liệu có bao nhiêu dòng và bao nhiêu cột?"
   ]
  },
  {
   "cell_type": "markdown",
   "id": "e9e28b16",
   "metadata": {},
   "source": [
    "Dữ liệu có tổng cộng **30809** dòng và **12** cột"
   ]
  },
  {
   "cell_type": "code",
   "execution_count": 4,
   "id": "ed633b83",
   "metadata": {},
   "outputs": [
    {
     "name": "stdout",
     "output_type": "stream",
     "text": [
      "30809\n",
      "12\n"
     ]
    }
   ],
   "source": [
    "shape = vaccinations.shape\n",
    "n_rows=shape[0]\n",
    "n_cols=shape[1]\n",
    "print(n_rows)\n",
    "print(n_cols)"
   ]
  },
  {
   "cell_type": "markdown",
   "id": "cc81adce",
   "metadata": {},
   "source": [
    "## Mỗi dòng có ý nghĩa gì? Có vấn đề các dòng có ý nghĩa khác nhau không?"
   ]
  },
  {
   "cell_type": "markdown",
   "id": "06a67911",
   "metadata": {},
   "source": [
    "Mỗi dòng cho biết số người đã tiêm vaccine, loại vaccine, đã tiêm đủ 2 mũi chưa cho trong các ngày được ghi nhận. Ngoài ra cũng có biết thêm thông tin số người bị bệnh theo tỉ lệ để thể hiện được quy mô của dịch bênh theo quốc gia, khu vực. Do các dòng đều được các tổ chức lớn thêm nên ít có dòng sai khác."
   ]
  },
  {
   "cell_type": "markdown",
   "id": "1851ee25",
   "metadata": {},
   "source": [
    "## Dữ liệu có các dòng bị lặp không?"
   ]
  },
  {
   "cell_type": "code",
   "execution_count": 5,
   "id": "fe158075",
   "metadata": {},
   "outputs": [
    {
     "data": {
      "text/plain": [
       "False"
      ]
     },
     "execution_count": 5,
     "metadata": {},
     "output_type": "execute_result"
    }
   ],
   "source": [
    "vaccinations[vaccinations.duplicated()].shape[0] != 0"
   ]
  },
  {
   "cell_type": "markdown",
   "id": "15bc402c",
   "metadata": {},
   "source": [
    "## Mỗi cột có ý nghĩa gì?¶"
   ]
  },
  {
   "cell_type": "markdown",
   "id": "fe4efcc1",
   "metadata": {},
   "source": [
    "**Ý nghĩa của từng cột:**\n",
    "- **location**: Tên quốc gia (hoặc vùng lãnh thổ trong 1 quốc gia(.\n",
    "- **iso_code**: ISO 3166-1  và 3 ký tự cuối là mã quốc gia.\n",
    "- **date**: Ngày quan trắc.\n",
    "- **total_vaccinations**: Tổng số liều đã được sử dụng. Đơn vị tính là liều đã tiêm, có thể không bằng tổng số người đã tiêm. Nếu một người tiêm một liều thì đếm tăng lên 1 đơn vị. Nếu họ tiêm liều thứ 2 thì cũng tăng thêm 1 đơn vị\n",
    "- **people_vaccinated**: Tổng số người nhận ít nhất một mũi tiêm. Nếu một người đã tiêm 1 mũi, thì đếm tăng lên 1 đơn vị. Nếu họ được tiêm liều thứ 2, thi giữ nguyên.\n",
    "- **people_fully_vaccinated**: Tổng số người đã tiêm đủ 2 liều vaccine. Nếu một người nhận đủ 2 liều vaccine, thì đếm tăng lên 1. Nếu học chỉ mới tiêm 1 liều thì giữ nguyên\n",
    "- **daily_vaccinations_raw**: Số lượng liều vaccine được sử dụng mỗi ngày, cập nhật theo ngày.\n",
    "- **daily_vaccintions**:Số lượng liều vaccine được sử dụng mỗi ngày, cập nhật theo ngày. Dữ liệu đã được chuẩn hóa hơn.\n",
    "- **total_vaccinations_per_hundred**: total_vaccinations trên 100 dân trong tổng dân số của quôc gia đó.\n",
    "- **people_vaccinated_per_hundred**: people_vaccinated trên 100 dân trong tổng dân số quốc gia đó.\n",
    "- **people_fully_vaccinated_per_hundred**: Tỗng số người đã được tiểm đủ 2 liều vaccine. Nếu một người tiêm liều đầu tiên thì giữ nguyên. Nếu họ nhận liều thứ 2, số liệu tính tăng thêm 1 đơn vị.\n",
    "- **daily_vaccinations_per_million**: daily_vaccintions trên 1,000,000 dân trong tổng dân số của quốc gia đó.\n",
    "\n",
    "**Note:**\\\n",
    "    - Mô tả trên được dịch từ bản [mô tả gốc](https://github.com/owid/covid-19-data/blob/master/public/data/vaccinations/README.md)"
   ]
  },
  {
   "cell_type": "markdown",
   "id": "db69bbb7",
   "metadata": {},
   "source": [
    "## Mỗi cột hiện đang có kiểu dữ liệu gì? Có cột nào có kiểu dữ liệu chưa phù hợp để có thể xử lý tiếp không?"
   ]
  },
  {
   "cell_type": "code",
   "execution_count": 6,
   "id": "37095078",
   "metadata": {},
   "outputs": [
    {
     "data": {
      "text/plain": [
       "location                                object\n",
       "iso_code                                object\n",
       "date                                    object\n",
       "total_vaccinations                     float64\n",
       "people_vaccinated                      float64\n",
       "people_fully_vaccinated                float64\n",
       "daily_vaccinations_raw                 float64\n",
       "daily_vaccinations                     float64\n",
       "total_vaccinations_per_hundred         float64\n",
       "people_vaccinated_per_hundred          float64\n",
       "people_fully_vaccinated_per_hundred    float64\n",
       "daily_vaccinations_per_million         float64\n",
       "dtype: object"
      ]
     },
     "execution_count": 6,
     "metadata": {},
     "output_type": "execute_result"
    }
   ],
   "source": [
    "vaccinations.dtypes"
   ]
  },
  {
   "cell_type": "markdown",
   "id": "ff1ece3b",
   "metadata": {},
   "source": [
    "**Nhận xét:**\n",
    "1. Cần chuyển cột date về kiểu dữ liệu dạng date"
   ]
  },
  {
   "cell_type": "markdown",
   "id": "6fabb7dc",
   "metadata": {},
   "source": [
    "## Số-lượng/tỉ-lệ các giá trị thiếu?"
   ]
  },
  {
   "cell_type": "code",
   "execution_count": 7,
   "id": "b9895868",
   "metadata": {},
   "outputs": [
    {
     "data": {
      "text/html": [
       "<div>\n",
       "<style scoped>\n",
       "    .dataframe tbody tr th:only-of-type {\n",
       "        vertical-align: middle;\n",
       "    }\n",
       "\n",
       "    .dataframe tbody tr th {\n",
       "        vertical-align: top;\n",
       "    }\n",
       "\n",
       "    .dataframe thead th {\n",
       "        text-align: right;\n",
       "    }\n",
       "</style>\n",
       "<table border=\"1\" class=\"dataframe\">\n",
       "  <thead>\n",
       "    <tr style=\"text-align: right;\">\n",
       "      <th></th>\n",
       "      <th>Number of null</th>\n",
       "      <th>Ratio of null</th>\n",
       "    </tr>\n",
       "  </thead>\n",
       "  <tbody>\n",
       "    <tr>\n",
       "      <th>location</th>\n",
       "      <td>0</td>\n",
       "      <td>0.000000</td>\n",
       "    </tr>\n",
       "    <tr>\n",
       "      <th>iso_code</th>\n",
       "      <td>0</td>\n",
       "      <td>0.000000</td>\n",
       "    </tr>\n",
       "    <tr>\n",
       "      <th>date</th>\n",
       "      <td>0</td>\n",
       "      <td>0.000000</td>\n",
       "    </tr>\n",
       "    <tr>\n",
       "      <th>total_vaccinations</th>\n",
       "      <td>12579</td>\n",
       "      <td>40.828979</td>\n",
       "    </tr>\n",
       "    <tr>\n",
       "      <th>people_vaccinated</th>\n",
       "      <td>13403</td>\n",
       "      <td>43.503522</td>\n",
       "    </tr>\n",
       "    <tr>\n",
       "      <th>people_fully_vaccinated</th>\n",
       "      <td>16378</td>\n",
       "      <td>53.159791</td>\n",
       "    </tr>\n",
       "    <tr>\n",
       "      <th>daily_vaccinations_raw</th>\n",
       "      <td>15388</td>\n",
       "      <td>49.946444</td>\n",
       "    </tr>\n",
       "    <tr>\n",
       "      <th>daily_vaccinations</th>\n",
       "      <td>288</td>\n",
       "      <td>0.934792</td>\n",
       "    </tr>\n",
       "    <tr>\n",
       "      <th>total_vaccinations_per_hundred</th>\n",
       "      <td>12579</td>\n",
       "      <td>40.828979</td>\n",
       "    </tr>\n",
       "    <tr>\n",
       "      <th>people_vaccinated_per_hundred</th>\n",
       "      <td>13403</td>\n",
       "      <td>43.503522</td>\n",
       "    </tr>\n",
       "    <tr>\n",
       "      <th>people_fully_vaccinated_per_hundred</th>\n",
       "      <td>16378</td>\n",
       "      <td>53.159791</td>\n",
       "    </tr>\n",
       "    <tr>\n",
       "      <th>daily_vaccinations_per_million</th>\n",
       "      <td>288</td>\n",
       "      <td>0.934792</td>\n",
       "    </tr>\n",
       "  </tbody>\n",
       "</table>\n",
       "</div>"
      ],
      "text/plain": [
       "                                     Number of null  Ratio of null\n",
       "location                                          0       0.000000\n",
       "iso_code                                          0       0.000000\n",
       "date                                              0       0.000000\n",
       "total_vaccinations                            12579      40.828979\n",
       "people_vaccinated                             13403      43.503522\n",
       "people_fully_vaccinated                       16378      53.159791\n",
       "daily_vaccinations_raw                        15388      49.946444\n",
       "daily_vaccinations                              288       0.934792\n",
       "total_vaccinations_per_hundred                12579      40.828979\n",
       "people_vaccinated_per_hundred                 13403      43.503522\n",
       "people_fully_vaccinated_per_hundred           16378      53.159791\n",
       "daily_vaccinations_per_million                  288       0.934792"
      ]
     },
     "execution_count": 7,
     "metadata": {},
     "output_type": "execute_result"
    }
   ],
   "source": [
    "number_of_null = vaccinations.isna().sum()\n",
    "ratio_of_null = vaccinations.isnull().sum() * 100 / len(vaccinations)\n",
    "\n",
    "number_ratio_of_null = pd.concat([number_of_null, ratio_of_null], axis=1)\n",
    "number_ratio_of_null.columns = [\"Number of null\", \"Ratio of null\"]\n",
    "\n",
    "number_ratio_of_null"
   ]
  },
  {
   "cell_type": "markdown",
   "id": "eba76bd0",
   "metadata": {},
   "source": [
    "## Tiền xử lý bỏ cột có giá trị thiếu nhiều và bỏ cột chúng tôi không hiểu rõ ý nghĩa"
   ]
  },
  {
   "cell_type": "markdown",
   "id": "fb96b148",
   "metadata": {},
   "source": [
    "**Nhận xét:**\n",
    "1. Cần chuyển cột date về kiểu dữ liệu dạng date\n",
    "2. Cột daily_vaccinations_raw có rất nhiều giá trị null, dữ liệu chưa được chuẩn hóa. Có thể thay thế bằng cột daily_vaccinations đã được tác giả chuẩn hóa sẵn\n",
    "3. Các cột people_fully_vaccinated, people_fully_vaccinated_per_hundred dữ liệu không rõ ràng, cần lược bỏ\n",
    "4. Các cột people_fully_vaccinated, total_vaccinations , total_vaccinations_per_hundred, people_vaccinated_per_hundred, daily_vaccinations có giá trị null nhiều cần điền đầy đủ \n",
    "5. Dữ liệu này không chỉ bao gồm các quốc mà còn thống kê theo vùng lãnh thổ, theo thu nhập. Nên chia dataset vaccinations ban đầu thành 3 phần, 1 của quốc gia cụ thể, 2 của vùng lãnh thổ, 3 theo thu nhập"
   ]
  },
  {
   "cell_type": "markdown",
   "id": "3b3d7a44",
   "metadata": {},
   "source": [
    "### Điều chỉnh kiểu dữ liệu cho phù hợp cho các cột"
   ]
  },
  {
   "cell_type": "markdown",
   "id": "5c9c3b6b",
   "metadata": {},
   "source": [
    "### 1. Chuyển dtype cột 'date' sang datetime"
   ]
  },
  {
   "cell_type": "code",
   "execution_count": 8,
   "id": "a34ac93d",
   "metadata": {},
   "outputs": [],
   "source": [
    "vaccinations['date'] = pd.to_datetime(vaccinations['date'],format=\"%Y/%m/%d\")"
   ]
  },
  {
   "cell_type": "markdown",
   "id": "7f25e5de",
   "metadata": {},
   "source": [
    "### 2. Điền vào giá trị null của các cột\n",
    "Thực hiện với 6 cột sau:\n",
    "- Điền giá trị null dựa vào giá trị của ngày trước đó cùng cột:\n",
    "    1. people_vaccinated\n",
    "    2. total_vaccinations \n",
    "    3. total_vaccinations_per_hundred\n",
    "    4. people_vaccinated_per_hundred\n",
    "- Điền giá trị null dựa vào giá trị của ngày sau đó cùng cột\n",
    "    5. daily_vaccinations\n",
    "    6. daily_vaccinations_per_million"
   ]
  },
  {
   "cell_type": "code",
   "execution_count": 9,
   "id": "dfb0d038",
   "metadata": {},
   "outputs": [],
   "source": [
    "vaccinations['total_vaccinations'].fillna(method='ffill', inplace =True)\n",
    "vaccinations['people_vaccinated'].fillna(method='ffill', inplace =True)\n",
    "vaccinations['total_vaccinations_per_hundred'].fillna(method='ffill', inplace =True)\n",
    "vaccinations['people_vaccinated_per_hundred'].fillna(method='ffill', inplace =True)\n",
    "vaccinations['daily_vaccinations'].fillna(method='bfill', inplace =True)\n",
    "vaccinations['daily_vaccinations_per_million'].fillna(method='bfill', inplace =True)"
   ]
  },
  {
   "cell_type": "markdown",
   "id": "2e9e52ff",
   "metadata": {},
   "source": [
    "### 3. Loại bỏ các cột không rõ nghĩa, thiếu nhiều:\n",
    "Thực hiện với 3 cột sau:\n",
    "1. people_fully_vaccinated\n",
    "2. people_fully_vaccinated_per_hundred \n",
    "3. daily_vaccinations_raw"
   ]
  },
  {
   "cell_type": "code",
   "execution_count": 10,
   "id": "183d7c1f",
   "metadata": {},
   "outputs": [],
   "source": [
    "vaccinations.drop(columns=['people_fully_vaccinated','people_fully_vaccinated_per_hundred','daily_vaccinations_raw'],inplace =True)\n"
   ]
  },
  {
   "cell_type": "markdown",
   "id": "3f1e1da6",
   "metadata": {},
   "source": [
    "### 4. Chia dataset thành 3 thành phần:\n",
    "1. Vùng lãnh thổ\n",
    "2. Theo thu nhập\n",
    "3. Quốc gia cụ thể\n",
    "**Nhận xét:**\\\n",
    "    - Mã iso_code của vùng lãnh thổ thường bắt đầu bằng OWID\n",
    "    - Có vài quốc gia thuộc một liên minh hay tình trạng bất ổn được thống kê 2 lần cần loại bỏ"
   ]
  },
  {
   "cell_type": "markdown",
   "id": "945218eb",
   "metadata": {},
   "source": [
    "#### 4.1. Vùng lãnh thổ"
   ]
  },
  {
   "cell_type": "code",
   "execution_count": 11,
   "id": "751281b2",
   "metadata": {},
   "outputs": [
    {
     "data": {
      "text/plain": [
       "array(['Africa', 'Asia', 'England', 'Europe', 'European Union',\n",
       "       'High income', 'Kosovo', 'Low income', 'Lower middle income',\n",
       "       'North America', 'Northern Cyprus', 'Northern Ireland', 'Oceania',\n",
       "       'Scotland', 'South America', 'Upper middle income', 'Wales',\n",
       "       'World'], dtype=object)"
      ]
     },
     "execution_count": 11,
     "metadata": {},
     "output_type": "execute_result"
    }
   ],
   "source": [
    "# lấy các hàng dữ liệu thuộc về vùng lãnh thổ\n",
    "boolResult = vaccinations.apply(lambda x: 'OWID' in x['iso_code'],axis=1)\n",
    "vacc = vaccinations[boolResult]\n",
    "\n",
    "diffs,counts=np.unique(vacc['location'],return_counts=True)\n",
    "diffs"
   ]
  },
  {
   "cell_type": "markdown",
   "id": "9ca818b1",
   "metadata": {},
   "source": [
    "**Nhận xét**\n",
    "1. Các vùng lãnh thổ được liệt kê là: Africa, European Union, North America, Oceania, South America, World"
   ]
  },
  {
   "cell_type": "code",
   "execution_count": 12,
   "id": "0e5a80c5",
   "metadata": {},
   "outputs": [
    {
     "data": {
      "text/html": [
       "<div>\n",
       "<style scoped>\n",
       "    .dataframe tbody tr th:only-of-type {\n",
       "        vertical-align: middle;\n",
       "    }\n",
       "\n",
       "    .dataframe tbody tr th {\n",
       "        vertical-align: top;\n",
       "    }\n",
       "\n",
       "    .dataframe thead th {\n",
       "        text-align: right;\n",
       "    }\n",
       "</style>\n",
       "<table border=\"1\" class=\"dataframe\">\n",
       "  <thead>\n",
       "    <tr style=\"text-align: right;\">\n",
       "      <th></th>\n",
       "      <th>location</th>\n",
       "      <th>iso_code</th>\n",
       "      <th>date</th>\n",
       "      <th>total_vaccinations</th>\n",
       "      <th>people_vaccinated</th>\n",
       "      <th>daily_vaccinations</th>\n",
       "      <th>total_vaccinations_per_hundred</th>\n",
       "      <th>people_vaccinated_per_hundred</th>\n",
       "      <th>daily_vaccinations_per_million</th>\n",
       "    </tr>\n",
       "  </thead>\n",
       "  <tbody>\n",
       "    <tr>\n",
       "      <th>30369</th>\n",
       "      <td>World</td>\n",
       "      <td>OWID_WRL</td>\n",
       "      <td>2021-01-09</td>\n",
       "      <td>24028552.0</td>\n",
       "      <td>13686987.0</td>\n",
       "      <td>1648176.0</td>\n",
       "      <td>0.31</td>\n",
       "      <td>0.18</td>\n",
       "      <td>211.0</td>\n",
       "    </tr>\n",
       "    <tr>\n",
       "      <th>26074</th>\n",
       "      <td>South America</td>\n",
       "      <td>OWID_SAM</td>\n",
       "      <td>2021-04-26</td>\n",
       "      <td>70185898.0</td>\n",
       "      <td>48344482.0</td>\n",
       "      <td>1205620.0</td>\n",
       "      <td>16.29</td>\n",
       "      <td>11.22</td>\n",
       "      <td>2799.0</td>\n",
       "    </tr>\n",
       "    <tr>\n",
       "      <th>285</th>\n",
       "      <td>Africa</td>\n",
       "      <td>OWID_AFR</td>\n",
       "      <td>2021-06-14</td>\n",
       "      <td>42910815.0</td>\n",
       "      <td>31511518.0</td>\n",
       "      <td>628977.0</td>\n",
       "      <td>3.20</td>\n",
       "      <td>2.35</td>\n",
       "      <td>469.0</td>\n",
       "    </tr>\n",
       "    <tr>\n",
       "      <th>30447</th>\n",
       "      <td>World</td>\n",
       "      <td>OWID_WRL</td>\n",
       "      <td>2021-03-28</td>\n",
       "      <td>554720349.0</td>\n",
       "      <td>320494666.0</td>\n",
       "      <td>14768837.0</td>\n",
       "      <td>7.12</td>\n",
       "      <td>4.11</td>\n",
       "      <td>1895.0</td>\n",
       "    </tr>\n",
       "    <tr>\n",
       "      <th>26060</th>\n",
       "      <td>South America</td>\n",
       "      <td>OWID_SAM</td>\n",
       "      <td>2021-04-12</td>\n",
       "      <td>51813155.0</td>\n",
       "      <td>38011943.0</td>\n",
       "      <td>1320407.0</td>\n",
       "      <td>12.03</td>\n",
       "      <td>8.82</td>\n",
       "      <td>3065.0</td>\n",
       "    </tr>\n",
       "  </tbody>\n",
       "</table>\n",
       "</div>"
      ],
      "text/plain": [
       "            location  iso_code       date  total_vaccinations  \\\n",
       "30369          World  OWID_WRL 2021-01-09          24028552.0   \n",
       "26074  South America  OWID_SAM 2021-04-26          70185898.0   \n",
       "285           Africa  OWID_AFR 2021-06-14          42910815.0   \n",
       "30447          World  OWID_WRL 2021-03-28         554720349.0   \n",
       "26060  South America  OWID_SAM 2021-04-12          51813155.0   \n",
       "\n",
       "       people_vaccinated  daily_vaccinations  total_vaccinations_per_hundred  \\\n",
       "30369         13686987.0           1648176.0                            0.31   \n",
       "26074         48344482.0           1205620.0                           16.29   \n",
       "285           31511518.0            628977.0                            3.20   \n",
       "30447        320494666.0          14768837.0                            7.12   \n",
       "26060         38011943.0           1320407.0                           12.03   \n",
       "\n",
       "       people_vaccinated_per_hundred  daily_vaccinations_per_million  \n",
       "30369                           0.18                           211.0  \n",
       "26074                          11.22                          2799.0  \n",
       "285                             2.35                           469.0  \n",
       "30447                           4.11                          1895.0  \n",
       "26060                           8.82                          3065.0  "
      ]
     },
     "execution_count": 12,
     "metadata": {},
     "output_type": "execute_result"
    }
   ],
   "source": [
    "regions=np.array(['Africa', 'Asia', 'Europe', 'Oceania', 'South America', 'North America', 'World'])\n",
    "boolResult= vacc.apply(lambda x: x['location'] in regions, axis=1)\n",
    "regional_vacc= vacc[boolResult]\n",
    "regional_vacc.sample(5)"
   ]
  },
  {
   "cell_type": "markdown",
   "id": "47dd505b",
   "metadata": {},
   "source": [
    "#### 4.2. Theo thu nhập\n"
   ]
  },
  {
   "cell_type": "code",
   "execution_count": 13,
   "id": "93283d79",
   "metadata": {},
   "outputs": [
    {
     "data": {
      "text/html": [
       "<div>\n",
       "<style scoped>\n",
       "    .dataframe tbody tr th:only-of-type {\n",
       "        vertical-align: middle;\n",
       "    }\n",
       "\n",
       "    .dataframe tbody tr th {\n",
       "        vertical-align: top;\n",
       "    }\n",
       "\n",
       "    .dataframe thead th {\n",
       "        text-align: right;\n",
       "    }\n",
       "</style>\n",
       "<table border=\"1\" class=\"dataframe\">\n",
       "  <thead>\n",
       "    <tr style=\"text-align: right;\">\n",
       "      <th></th>\n",
       "      <th>location</th>\n",
       "      <th>iso_code</th>\n",
       "      <th>date</th>\n",
       "      <th>total_vaccinations</th>\n",
       "      <th>people_vaccinated</th>\n",
       "      <th>daily_vaccinations</th>\n",
       "      <th>total_vaccinations_per_hundred</th>\n",
       "      <th>people_vaccinated_per_hundred</th>\n",
       "      <th>daily_vaccinations_per_million</th>\n",
       "    </tr>\n",
       "  </thead>\n",
       "  <tbody>\n",
       "    <tr>\n",
       "      <th>12011</th>\n",
       "      <td>High income</td>\n",
       "      <td>OWID_HIC</td>\n",
       "      <td>2021-05-11</td>\n",
       "      <td>598092898.0</td>\n",
       "      <td>376110701.0</td>\n",
       "      <td>7635508.0</td>\n",
       "      <td>47.35</td>\n",
       "      <td>29.78</td>\n",
       "      <td>6045.0</td>\n",
       "    </tr>\n",
       "    <tr>\n",
       "      <th>12009</th>\n",
       "      <td>High income</td>\n",
       "      <td>OWID_HIC</td>\n",
       "      <td>2021-05-09</td>\n",
       "      <td>583235784.0</td>\n",
       "      <td>367981992.0</td>\n",
       "      <td>6995914.0</td>\n",
       "      <td>46.18</td>\n",
       "      <td>29.13</td>\n",
       "      <td>5539.0</td>\n",
       "    </tr>\n",
       "    <tr>\n",
       "      <th>16305</th>\n",
       "      <td>Low income</td>\n",
       "      <td>OWID_LIC</td>\n",
       "      <td>2021-06-07</td>\n",
       "      <td>6800419.0</td>\n",
       "      <td>6081034.0</td>\n",
       "      <td>91639.0</td>\n",
       "      <td>0.88</td>\n",
       "      <td>0.78</td>\n",
       "      <td>118.0</td>\n",
       "    </tr>\n",
       "    <tr>\n",
       "      <th>16362</th>\n",
       "      <td>Lower middle income</td>\n",
       "      <td>OWID_LMC</td>\n",
       "      <td>2021-02-14</td>\n",
       "      <td>11115094.0</td>\n",
       "      <td>9708720.0</td>\n",
       "      <td>586063.0</td>\n",
       "      <td>0.36</td>\n",
       "      <td>0.31</td>\n",
       "      <td>189.0</td>\n",
       "    </tr>\n",
       "    <tr>\n",
       "      <th>16295</th>\n",
       "      <td>Low income</td>\n",
       "      <td>OWID_LIC</td>\n",
       "      <td>2021-05-28</td>\n",
       "      <td>5436848.0</td>\n",
       "      <td>5074019.0</td>\n",
       "      <td>73274.0</td>\n",
       "      <td>0.70</td>\n",
       "      <td>0.65</td>\n",
       "      <td>94.0</td>\n",
       "    </tr>\n",
       "  </tbody>\n",
       "</table>\n",
       "</div>"
      ],
      "text/plain": [
       "                  location  iso_code       date  total_vaccinations  \\\n",
       "12011          High income  OWID_HIC 2021-05-11         598092898.0   \n",
       "12009          High income  OWID_HIC 2021-05-09         583235784.0   \n",
       "16305           Low income  OWID_LIC 2021-06-07           6800419.0   \n",
       "16362  Lower middle income  OWID_LMC 2021-02-14          11115094.0   \n",
       "16295           Low income  OWID_LIC 2021-05-28           5436848.0   \n",
       "\n",
       "       people_vaccinated  daily_vaccinations  total_vaccinations_per_hundred  \\\n",
       "12011        376110701.0           7635508.0                           47.35   \n",
       "12009        367981992.0           6995914.0                           46.18   \n",
       "16305          6081034.0             91639.0                            0.88   \n",
       "16362          9708720.0            586063.0                            0.36   \n",
       "16295          5074019.0             73274.0                            0.70   \n",
       "\n",
       "       people_vaccinated_per_hundred  daily_vaccinations_per_million  \n",
       "12011                          29.78                          6045.0  \n",
       "12009                          29.13                          5539.0  \n",
       "16305                           0.78                           118.0  \n",
       "16362                           0.31                           189.0  \n",
       "16295                           0.65                            94.0  "
      ]
     },
     "execution_count": 13,
     "metadata": {},
     "output_type": "execute_result"
    }
   ],
   "source": [
    "incomes=np.array(['High income', 'Low income', 'Lower middle income', 'Upper middle income'])\n",
    "boolResult= vacc.apply(lambda x: x['location'] in incomes, axis=1)\n",
    "income_vacc= vacc[boolResult]\n",
    "income_vacc.sample(5)"
   ]
  },
  {
   "cell_type": "markdown",
   "id": "af59a160",
   "metadata": {},
   "source": [
    "#### 4.3. Quốc gia cụ thể"
   ]
  },
  {
   "cell_type": "code",
   "execution_count": 14,
   "id": "930be738",
   "metadata": {},
   "outputs": [
    {
     "data": {
      "text/html": [
       "<div>\n",
       "<style scoped>\n",
       "    .dataframe tbody tr th:only-of-type {\n",
       "        vertical-align: middle;\n",
       "    }\n",
       "\n",
       "    .dataframe tbody tr th {\n",
       "        vertical-align: top;\n",
       "    }\n",
       "\n",
       "    .dataframe thead th {\n",
       "        text-align: right;\n",
       "    }\n",
       "</style>\n",
       "<table border=\"1\" class=\"dataframe\">\n",
       "  <thead>\n",
       "    <tr style=\"text-align: right;\">\n",
       "      <th></th>\n",
       "      <th>location</th>\n",
       "      <th>iso_code</th>\n",
       "      <th>date</th>\n",
       "      <th>total_vaccinations</th>\n",
       "      <th>people_vaccinated</th>\n",
       "      <th>daily_vaccinations</th>\n",
       "      <th>total_vaccinations_per_hundred</th>\n",
       "      <th>people_vaccinated_per_hundred</th>\n",
       "      <th>daily_vaccinations_per_million</th>\n",
       "    </tr>\n",
       "  </thead>\n",
       "  <tbody>\n",
       "    <tr>\n",
       "      <th>9356</th>\n",
       "      <td>Falkland Islands</td>\n",
       "      <td>FLK</td>\n",
       "      <td>2021-03-20</td>\n",
       "      <td>1732.0</td>\n",
       "      <td>1732.0</td>\n",
       "      <td>14.0</td>\n",
       "      <td>49.73</td>\n",
       "      <td>49.73</td>\n",
       "      <td>4020.0</td>\n",
       "    </tr>\n",
       "    <tr>\n",
       "      <th>27582</th>\n",
       "      <td>Thailand</td>\n",
       "      <td>THA</td>\n",
       "      <td>2021-04-01</td>\n",
       "      <td>204642.0</td>\n",
       "      <td>167235.0</td>\n",
       "      <td>12789.0</td>\n",
       "      <td>0.29</td>\n",
       "      <td>0.24</td>\n",
       "      <td>183.0</td>\n",
       "    </tr>\n",
       "    <tr>\n",
       "      <th>2653</th>\n",
       "      <td>Bangladesh</td>\n",
       "      <td>BGD</td>\n",
       "      <td>2021-06-01</td>\n",
       "      <td>9992849.0</td>\n",
       "      <td>5823245.0</td>\n",
       "      <td>13019.0</td>\n",
       "      <td>6.07</td>\n",
       "      <td>3.54</td>\n",
       "      <td>79.0</td>\n",
       "    </tr>\n",
       "    <tr>\n",
       "      <th>2397</th>\n",
       "      <td>Bahrain</td>\n",
       "      <td>BHR</td>\n",
       "      <td>2021-02-24</td>\n",
       "      <td>97776.0</td>\n",
       "      <td>284948.0</td>\n",
       "      <td>7712.0</td>\n",
       "      <td>5.75</td>\n",
       "      <td>16.75</td>\n",
       "      <td>4532.0</td>\n",
       "    </tr>\n",
       "    <tr>\n",
       "      <th>3784</th>\n",
       "      <td>Bosnia and Herzegovina</td>\n",
       "      <td>BIH</td>\n",
       "      <td>2021-03-05</td>\n",
       "      <td>0.0</td>\n",
       "      <td>0.0</td>\n",
       "      <td>263.0</td>\n",
       "      <td>0.00</td>\n",
       "      <td>0.00</td>\n",
       "      <td>80.0</td>\n",
       "    </tr>\n",
       "  </tbody>\n",
       "</table>\n",
       "</div>"
      ],
      "text/plain": [
       "                     location iso_code       date  total_vaccinations  \\\n",
       "9356         Falkland Islands      FLK 2021-03-20              1732.0   \n",
       "27582                Thailand      THA 2021-04-01            204642.0   \n",
       "2653               Bangladesh      BGD 2021-06-01           9992849.0   \n",
       "2397                  Bahrain      BHR 2021-02-24             97776.0   \n",
       "3784   Bosnia and Herzegovina      BIH 2021-03-05                 0.0   \n",
       "\n",
       "       people_vaccinated  daily_vaccinations  total_vaccinations_per_hundred  \\\n",
       "9356              1732.0                14.0                           49.73   \n",
       "27582           167235.0             12789.0                            0.29   \n",
       "2653           5823245.0             13019.0                            6.07   \n",
       "2397            284948.0              7712.0                            5.75   \n",
       "3784                 0.0               263.0                            0.00   \n",
       "\n",
       "       people_vaccinated_per_hundred  daily_vaccinations_per_million  \n",
       "9356                           49.73                          4020.0  \n",
       "27582                           0.24                           183.0  \n",
       "2653                            3.54                            79.0  \n",
       "2397                           16.75                          4532.0  \n",
       "3784                            0.00                            80.0  "
      ]
     },
     "execution_count": 14,
     "metadata": {},
     "output_type": "execute_result"
    }
   ],
   "source": [
    "# lấy các hàng dữ liệu thuộc về quốc gia\n",
    "boolResult = vaccinations.apply(lambda x: 'OWID' not in x['iso_code'],axis=1)\n",
    "national_vacc = vaccinations[boolResult]\n",
    "national_vacc.sample(5)"
   ]
  },
  {
   "cell_type": "markdown",
   "id": "a9309538",
   "metadata": {},
   "source": [
    "### Xem lại dữ liệu sau khi đã điều chỉnh"
   ]
  },
  {
   "cell_type": "code",
   "execution_count": 15,
   "id": "4832c405",
   "metadata": {},
   "outputs": [
    {
     "data": {
      "text/plain": [
       "location                                  object\n",
       "iso_code                                  object\n",
       "date                              datetime64[ns]\n",
       "total_vaccinations                       float64\n",
       "people_vaccinated                        float64\n",
       "daily_vaccinations                       float64\n",
       "total_vaccinations_per_hundred           float64\n",
       "people_vaccinated_per_hundred            float64\n",
       "daily_vaccinations_per_million           float64\n",
       "dtype: object"
      ]
     },
     "execution_count": 15,
     "metadata": {},
     "output_type": "execute_result"
    }
   ],
   "source": [
    "vaccinations.dtypes"
   ]
  },
  {
   "cell_type": "markdown",
   "id": "4b527c6e",
   "metadata": {},
   "source": [
    "## Với mỗi cột có kiểu dữ liệu dạng số (numeric), các giá trị được phân bố như thế nào?"
   ]
  },
  {
   "cell_type": "code",
   "execution_count": 16,
   "id": "fd685462",
   "metadata": {},
   "outputs": [
    {
     "data": {
      "text/html": [
       "<div>\n",
       "<style scoped>\n",
       "    .dataframe tbody tr th:only-of-type {\n",
       "        vertical-align: middle;\n",
       "    }\n",
       "\n",
       "    .dataframe tbody tr th {\n",
       "        vertical-align: top;\n",
       "    }\n",
       "\n",
       "    .dataframe thead th {\n",
       "        text-align: right;\n",
       "    }\n",
       "</style>\n",
       "<table border=\"1\" class=\"dataframe\">\n",
       "  <thead>\n",
       "    <tr style=\"text-align: right;\">\n",
       "      <th></th>\n",
       "      <th>date</th>\n",
       "    </tr>\n",
       "  </thead>\n",
       "  <tbody>\n",
       "    <tr>\n",
       "      <th>min</th>\n",
       "      <td>2020-12-02</td>\n",
       "    </tr>\n",
       "    <tr>\n",
       "      <th>max</th>\n",
       "      <td>2021-07-03</td>\n",
       "    </tr>\n",
       "  </tbody>\n",
       "</table>\n",
       "</div>"
      ],
      "text/plain": [
       "          date\n",
       "min 2020-12-02\n",
       "max 2021-07-03"
      ]
     },
     "execution_count": 16,
     "metadata": {},
     "output_type": "execute_result"
    }
   ],
   "source": [
    "national_vacc[['date',]].agg([min,max])"
   ]
  },
  {
   "cell_type": "markdown",
   "id": "9a721721",
   "metadata": {},
   "source": [
    "Vì các dòng dữ liệu là thống kê chương trình vaccine của từng quốc gia, khu vực, dược quan trắc từng ngày từ ngày triển khai đến thời điểm cập nhật gần nhất. Nên ta chọn 1 mốc là ngày **01/06/2021** để xem phân bố của các giá trị (ở mốc này đầy đủ nhất các quốc gia cung cấp và cập nhật số liệu) "
   ]
  },
  {
   "cell_type": "code",
   "execution_count": 17,
   "id": "3a724505",
   "metadata": {
    "scrolled": true
   },
   "outputs": [
    {
     "data": {
      "text/html": [
       "<div>\n",
       "<style scoped>\n",
       "    .dataframe tbody tr th:only-of-type {\n",
       "        vertical-align: middle;\n",
       "    }\n",
       "\n",
       "    .dataframe tbody tr th {\n",
       "        vertical-align: top;\n",
       "    }\n",
       "\n",
       "    .dataframe thead th {\n",
       "        text-align: right;\n",
       "    }\n",
       "</style>\n",
       "<table border=\"1\" class=\"dataframe\">\n",
       "  <thead>\n",
       "    <tr style=\"text-align: right;\">\n",
       "      <th></th>\n",
       "      <th>total_vaccinations</th>\n",
       "      <th>people_vaccinated</th>\n",
       "    </tr>\n",
       "  </thead>\n",
       "  <tbody>\n",
       "    <tr>\n",
       "      <th>max</th>\n",
       "      <td>6.819080e+08</td>\n",
       "      <td>1.695852e+08</td>\n",
       "    </tr>\n",
       "    <tr>\n",
       "      <th>min</th>\n",
       "      <td>0.000000e+00</td>\n",
       "      <td>0.000000e+00</td>\n",
       "    </tr>\n",
       "    <tr>\n",
       "      <th>mean</th>\n",
       "      <td>9.828503e+06</td>\n",
       "      <td>4.311474e+06</td>\n",
       "    </tr>\n",
       "    <tr>\n",
       "      <th>sum</th>\n",
       "      <td>1.985358e+09</td>\n",
       "      <td>8.709177e+08</td>\n",
       "    </tr>\n",
       "  </tbody>\n",
       "</table>\n",
       "</div>"
      ],
      "text/plain": [
       "      total_vaccinations  people_vaccinated\n",
       "max         6.819080e+08       1.695852e+08\n",
       "min         0.000000e+00       0.000000e+00\n",
       "mean        9.828503e+06       4.311474e+06\n",
       "sum         1.985358e+09       8.709177e+08"
      ]
     },
     "execution_count": 17,
     "metadata": {},
     "output_type": "execute_result"
    }
   ],
   "source": [
    "cur_date= pd.to_datetime('2021/06/01', format='%Y/%m/%d')\n",
    "temp= national_vacc[national_vacc['date']==cur_date]\n",
    "temp[['total_vaccinations','people_vaccinated']].agg([max,min,'mean','sum'])\n"
   ]
  },
  {
   "cell_type": "markdown",
   "id": "d98b9d90",
   "metadata": {},
   "source": [
    "Nhìn vào số liệu trên, đến ngày 01/06/2021 đã có gần 2 tỷ liều vaccine đã được sử dụng. Số người được tiêm ít nhất một mũi là 871 triệu người. Số lượng vaccine nhiều nhất mà 1 quốc gia đã sử dụng là 682 triệu liều. Và  số người tiêm chủng ít nhất một liều nhiều nhất của 1 quốc gia là gần 170 triệu"
   ]
  },
  {
   "cell_type": "code",
   "execution_count": 18,
   "id": "3b38c5ce",
   "metadata": {},
   "outputs": [
    {
     "data": {
      "text/html": [
       "<div>\n",
       "<style scoped>\n",
       "    .dataframe tbody tr th:only-of-type {\n",
       "        vertical-align: middle;\n",
       "    }\n",
       "\n",
       "    .dataframe tbody tr th {\n",
       "        vertical-align: top;\n",
       "    }\n",
       "\n",
       "    .dataframe thead th {\n",
       "        text-align: right;\n",
       "    }\n",
       "</style>\n",
       "<table border=\"1\" class=\"dataframe\">\n",
       "  <thead>\n",
       "    <tr style=\"text-align: right;\">\n",
       "      <th></th>\n",
       "      <th>total_vaccinations_per_hundred</th>\n",
       "      <th>people_vaccinated_per_hundred</th>\n",
       "      <th>daily_vaccinations</th>\n",
       "      <th>daily_vaccinations_per_million</th>\n",
       "    </tr>\n",
       "  </thead>\n",
       "  <tbody>\n",
       "    <tr>\n",
       "      <th>min</th>\n",
       "      <td>0.000000</td>\n",
       "      <td>0.000000</td>\n",
       "      <td>0.000000e+00</td>\n",
       "      <td>0.000000</td>\n",
       "    </tr>\n",
       "    <tr>\n",
       "      <th>max</th>\n",
       "      <td>230.090000</td>\n",
       "      <td>116.000000</td>\n",
       "      <td>1.931343e+07</td>\n",
       "      <td>31940.000000</td>\n",
       "    </tr>\n",
       "    <tr>\n",
       "      <th>mean</th>\n",
       "      <td>33.363465</td>\n",
       "      <td>21.224703</td>\n",
       "      <td>1.692522e+05</td>\n",
       "      <td>3923.940594</td>\n",
       "    </tr>\n",
       "  </tbody>\n",
       "</table>\n",
       "</div>"
      ],
      "text/plain": [
       "      total_vaccinations_per_hundred  people_vaccinated_per_hundred  \\\n",
       "min                         0.000000                       0.000000   \n",
       "max                       230.090000                     116.000000   \n",
       "mean                       33.363465                      21.224703   \n",
       "\n",
       "      daily_vaccinations  daily_vaccinations_per_million  \n",
       "min         0.000000e+00                        0.000000  \n",
       "max         1.931343e+07                    31940.000000  \n",
       "mean        1.692522e+05                     3923.940594  "
      ]
     },
     "execution_count": 18,
     "metadata": {},
     "output_type": "execute_result"
    }
   ],
   "source": [
    "cur_date= pd.to_datetime('2021/06/01', format='%Y/%m/%d')\n",
    "temp= national_vacc[national_vacc['date']==cur_date]\n",
    "temp[['total_vaccinations_per_hundred','people_vaccinated_per_hundred','daily_vaccinations','daily_vaccinations_per_million']].agg([min,max,'mean'])\n"
   ]
  },
  {
   "cell_type": "code",
   "execution_count": null,
   "id": "469d5be2",
   "metadata": {},
   "outputs": [],
   "source": []
  },
  {
   "cell_type": "markdown",
   "id": "66a24860",
   "metadata": {},
   "source": [
    "## Với mỗi cột có kiểu dữ liệu dạng phân loại (categorical), các giá trị được phân bố như thế nào?"
   ]
  },
  {
   "cell_type": "markdown",
   "id": "41c54fda",
   "metadata": {},
   "source": [
    "Có 2 cột dữ liệu dạng phân loại là **location**, **iso_code**. Số lượng dòng dữ liệu từng quốc gia cho biết số ngày quốc gia đó đã triển khai chương trinh tiêm chủng quốc gia."
   ]
  },
  {
   "cell_type": "code",
   "execution_count": 19,
   "id": "95e28cc3",
   "metadata": {},
   "outputs": [
    {
     "name": "stdout",
     "output_type": "stream",
     "text": [
      "211\n"
     ]
    }
   ],
   "source": [
    "diffs,counts=np.unique(national_vacc['location'],return_counts=True)\n",
    "print(len(diffs))"
   ]
  },
  {
   "cell_type": "markdown",
   "id": "8ef8c66a",
   "metadata": {},
   "source": [
    "Vaccine đã tiếp cận được với 211 quốc gia"
   ]
  },
  {
   "cell_type": "markdown",
   "id": "fca1dcf1",
   "metadata": {},
   "source": [
    "---\n"
   ]
  },
  {
   "cell_type": "markdown",
   "id": "832966af",
   "metadata": {},
   "source": [
    "# Xác định các câu hỏi"
   ]
  },
  {
   "cell_type": "markdown",
   "id": "4c977362",
   "metadata": {},
   "source": []
  },
  {
   "cell_type": "markdown",
   "id": "91fb16a6",
   "metadata": {},
   "source": [
    "## Số lượng tiêm vaccine phân bố theo tháng trong năm 2021?"
   ]
  },
  {
   "cell_type": "code",
   "execution_count": 20,
   "id": "04ad0704",
   "metadata": {},
   "outputs": [
    {
     "data": {
      "text/html": [
       "<div>\n",
       "<style scoped>\n",
       "    .dataframe tbody tr th:only-of-type {\n",
       "        vertical-align: middle;\n",
       "    }\n",
       "\n",
       "    .dataframe tbody tr th {\n",
       "        vertical-align: top;\n",
       "    }\n",
       "\n",
       "    .dataframe thead th {\n",
       "        text-align: right;\n",
       "    }\n",
       "</style>\n",
       "<table border=\"1\" class=\"dataframe\">\n",
       "  <thead>\n",
       "    <tr style=\"text-align: right;\">\n",
       "      <th></th>\n",
       "      <th>people_vaccinated</th>\n",
       "    </tr>\n",
       "    <tr>\n",
       "      <th>date</th>\n",
       "      <th></th>\n",
       "    </tr>\n",
       "  </thead>\n",
       "  <tbody>\n",
       "    <tr>\n",
       "      <th>2021-01-31</th>\n",
       "      <td>1.622660e+09</td>\n",
       "    </tr>\n",
       "    <tr>\n",
       "      <th>2021-02-28</th>\n",
       "      <td>1.090124e+10</td>\n",
       "    </tr>\n",
       "    <tr>\n",
       "      <th>2021-03-31</th>\n",
       "      <td>1.536795e+10</td>\n",
       "    </tr>\n",
       "    <tr>\n",
       "      <th>2021-04-30</th>\n",
       "      <td>1.481572e+10</td>\n",
       "    </tr>\n",
       "    <tr>\n",
       "      <th>2021-05-31</th>\n",
       "      <td>2.261742e+10</td>\n",
       "    </tr>\n",
       "    <tr>\n",
       "      <th>2021-06-30</th>\n",
       "      <td>4.381797e+10</td>\n",
       "    </tr>\n",
       "    <tr>\n",
       "      <th>2021-07-31</th>\n",
       "      <td>4.700974e+09</td>\n",
       "    </tr>\n",
       "  </tbody>\n",
       "</table>\n",
       "</div>"
      ],
      "text/plain": [
       "            people_vaccinated\n",
       "date                         \n",
       "2021-01-31       1.622660e+09\n",
       "2021-02-28       1.090124e+10\n",
       "2021-03-31       1.536795e+10\n",
       "2021-04-30       1.481572e+10\n",
       "2021-05-31       2.261742e+10\n",
       "2021-06-30       4.381797e+10\n",
       "2021-07-31       4.700974e+09"
      ]
     },
     "execution_count": 20,
     "metadata": {},
     "output_type": "execute_result"
    }
   ],
   "source": [
    "people_vaccinated = national_vacc[['date', 'people_vaccinated']]\n",
    "people_vaccinated_2021 = people_vaccinated[people_vaccinated['date'].dt.year == 2021]\n",
    "\n",
    "num_vaccinations_each_month = people_vaccinated_2021.resample('M', on='date').sum()\n",
    "num_vaccinations_each_month"
   ]
  },
  {
   "cell_type": "code",
   "execution_count": 21,
   "id": "39d8cd07",
   "metadata": {},
   "outputs": [
    {
     "data": {
      "text/plain": [
       "<AxesSubplot:xlabel='Month', ylabel='Vaccinations'>"
      ]
     },
     "execution_count": 21,
     "metadata": {},
     "output_type": "execute_result"
    },
    {
     "data": {
      "image/png": "[encoded data removed]",
      "text/plain": [
       "<Figure size 432x288 with 1 Axes>"
      ]
     },
     "metadata": {
      "needs_background": "light"
     },
     "output_type": "display_data"
    }
   ],
   "source": [
    "num_vaccinations_each_month.sort_index().plot.line(marker='o', xlabel=\"Month\", ylabel=\"Vaccinations\")"
   ]
  },
  {
   "cell_type": "markdown",
   "id": "cbfbf43b",
   "metadata": {},
   "source": [
    "## Nếu trả lời được câu hỏi thì sẽ có lợi ích gì?"
   ]
  },
  {
   "cell_type": "markdown",
   "id": "29ed2361",
   "metadata": {},
   "source": [
    "Qua biểu đồ cho thấy tháng 6 có một lượng lớn vaccine được tiêm do các đợt bùng phát gia tăng"
   ]
  },
  {
   "cell_type": "markdown",
   "id": "a1754bea",
   "metadata": {},
   "source": [
    "## Quốc gia tiêm nhiều nhất tại mỗi tháng trong năm 2021?"
   ]
  },
  {
   "cell_type": "code",
   "execution_count": 22,
   "id": "75e01b92",
   "metadata": {},
   "outputs": [
    {
     "data": {
      "text/html": [
       "<div>\n",
       "<style scoped>\n",
       "    .dataframe tbody tr th:only-of-type {\n",
       "        vertical-align: middle;\n",
       "    }\n",
       "\n",
       "    .dataframe tbody tr th {\n",
       "        vertical-align: top;\n",
       "    }\n",
       "\n",
       "    .dataframe thead th {\n",
       "        text-align: right;\n",
       "    }\n",
       "</style>\n",
       "<table border=\"1\" class=\"dataframe\">\n",
       "  <thead>\n",
       "    <tr style=\"text-align: right;\">\n",
       "      <th></th>\n",
       "      <th>location</th>\n",
       "      <th>people_vaccinated</th>\n",
       "    </tr>\n",
       "    <tr>\n",
       "      <th>date</th>\n",
       "      <th></th>\n",
       "      <th></th>\n",
       "    </tr>\n",
       "  </thead>\n",
       "  <tbody>\n",
       "    <tr>\n",
       "      <th>2021-01-31</th>\n",
       "      <td>China</td>\n",
       "      <td>3.926926e+08</td>\n",
       "    </tr>\n",
       "    <tr>\n",
       "      <th>2021-07-31</th>\n",
       "      <td>China</td>\n",
       "      <td>1.866000e+09</td>\n",
       "    </tr>\n",
       "    <tr>\n",
       "      <th>2021-04-30</th>\n",
       "      <td>United States</td>\n",
       "      <td>3.747634e+09</td>\n",
       "    </tr>\n",
       "    <tr>\n",
       "      <th>2021-05-31</th>\n",
       "      <td>United States</td>\n",
       "      <td>4.874750e+09</td>\n",
       "    </tr>\n",
       "    <tr>\n",
       "      <th>2021-02-28</th>\n",
       "      <td>Colombia</td>\n",
       "      <td>7.464000e+09</td>\n",
       "    </tr>\n",
       "    <tr>\n",
       "      <th>2021-03-31</th>\n",
       "      <td>Colombia</td>\n",
       "      <td>7.487969e+09</td>\n",
       "    </tr>\n",
       "    <tr>\n",
       "      <th>2021-06-30</th>\n",
       "      <td>China</td>\n",
       "      <td>1.317601e+10</td>\n",
       "    </tr>\n",
       "  </tbody>\n",
       "</table>\n",
       "</div>"
      ],
      "text/plain": [
       "                 location  people_vaccinated\n",
       "date                                        \n",
       "2021-01-31          China       3.926926e+08\n",
       "2021-07-31          China       1.866000e+09\n",
       "2021-04-30  United States       3.747634e+09\n",
       "2021-05-31  United States       4.874750e+09\n",
       "2021-02-28       Colombia       7.464000e+09\n",
       "2021-03-31       Colombia       7.487969e+09\n",
       "2021-06-30          China       1.317601e+10"
      ]
     },
     "execution_count": 22,
     "metadata": {},
     "output_type": "execute_result"
    }
   ],
   "source": [
    "national_vaccinated = national_vacc[['location', 'date', 'people_vaccinated']]\n",
    "national_vaccinated_2021 = national_vaccinated[national_vaccinated['date'].dt.year == 2021]\n",
    "\n",
    "national_vaccinations_each_month = national_vaccinated_2021.set_index('date').groupby('location').resample('M').sum()\n",
    "national_vaccinations_each_month.reset_index(inplace=True)  \n",
    "\n",
    "people_vaccinations_month_location = national_vaccinations_each_month.sort_values('people_vaccinated').drop_duplicates('date', keep='last')\n",
    "max_national_vaccination_each_month = people_vaccinations_month_location.set_index('date')\n",
    "max_national_vaccination_each_month"
   ]
  },
  {
   "cell_type": "code",
   "execution_count": 23,
   "id": "800292fa",
   "metadata": {},
   "outputs": [
    {
     "data": {
      "text/plain": [
       "<AxesSubplot:xlabel='Month', ylabel='Vaccinations'>"
      ]
     },
     "execution_count": 23,
     "metadata": {},
     "output_type": "execute_result"
    },
    {
     "data": {
      "image/png": "[encoded data removed]",
      "text/plain": [
       "<Figure size 432x288 with 1 Axes>"
      ]
     },
     "metadata": {
      "needs_background": "light"
     },
     "output_type": "display_data"
    }
   ],
   "source": [
    "max_national_vaccination_each_month.sort_index().plot.line(marker='o', xlabel=\"Month\", ylabel=\"Vaccinations\")"
   ]
  },
  {
   "cell_type": "markdown",
   "id": "9efef7ab",
   "metadata": {},
   "source": [
    "---\n"
   ]
  },
  {
   "cell_type": "markdown",
   "id": "f2c6ecad",
   "metadata": {},
   "source": [
    "# Phân tích để trả lời"
   ]
  },
  {
   "cell_type": "code",
   "execution_count": null,
   "id": "c72adfd3",
   "metadata": {},
   "outputs": [],
   "source": []
  },
  {
   "cell_type": "markdown",
   "id": "a9c0a347",
   "metadata": {},
   "source": [
    "---\n"
   ]
  },
  {
   "cell_type": "markdown",
   "id": "9d89c5a0",
   "metadata": {},
   "source": [
    "# Nhìn lại quá trình làm đồ án"
   ]
  },
  {
   "cell_type": "code",
   "execution_count": null,
   "id": "a9462acc",
   "metadata": {},
   "outputs": [],
   "source": []
  },
  {
   "cell_type": "markdown",
   "id": "938671c8",
   "metadata": {},
   "source": [
    "---\n"
   ]
  },
  {
   "cell_type": "markdown",
   "id": "4255a084",
   "metadata": {},
   "source": [
    "# Tài liệu tham khảo"
   ]
  },
  {
   "cell_type": "code",
   "execution_count": null,
   "id": "c7898db3",
   "metadata": {},
   "outputs": [],
   "source": []
  }
 ],
 "metadata": {
  "kernelspec": {
   "display_name": "Python 3",
   "language": "python",
   "name": "python3"
  },
  "language_info": {
   "codemirror_mode": {
    "name": "ipython",
    "version": 3
   },
   "file_extension": ".py",
   "mimetype": "text/x-python",
   "name": "python",
   "nbconvert_exporter": "python",
   "pygments_lexer": "ipython3",
   "version": "3.8.8"
  }
 },
 "nbformat": 4,
 "nbformat_minor": 5
}
