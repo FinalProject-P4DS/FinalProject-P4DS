{
 "cells": [
  {
   "cell_type": "markdown",
   "id": "5d70c4be",
   "metadata": {},
   "source": [
    "# Đồ án cuối kỳ:\n",
    "(Cập nhật lần cuối: 04/07/2021)\\\n",
    "Nhóm 7\n",
    "Thành viên:\n",
    " 1. 18120062 - Nguyễn Hoàng Nam\n",
    " 2. 18120096 - Trương Đại Triều"
   ]
  },
  {
   "cell_type": "markdown",
   "id": "32767f5b",
   "metadata": {},
   "source": [
    "----"
   ]
  },
  {
   "cell_type": "markdown",
   "id": "c8e9b7c2",
   "metadata": {},
   "source": [
    "<h1>Bảng nội dung<span class=\"tocSkip\"></span></h1>\n",
    "<div class=\"toc\"><ul class=\"toc-item\"><li><span><a href=\"#Import-thư-viện\" data-toc-modified-id=\"Import-thư-viện-1\"><span class=\"toc-item-num\">1&nbsp;&nbsp;</span>Import thư viện</a></span></li><li><span><a href=\"#Thu-thập-dữ-liệu\" data-toc-modified-id=\"Thu-thập-dữ-liệu-2\"><span class=\"toc-item-num\">2&nbsp;&nbsp;</span>Thu thập dữ liệu</a></span></li><li><span><a href=\"#Khám-phá-dữ-liệu-&-tiền-xử-lý-dữ-liệu\" data-toc-modified-id=\"Khám-phá-dữ-liệu-&-tiền-xử-lý-dữ-liệu-3\"><span class=\"toc-item-num\">3&nbsp;&nbsp;</span>Khám phá dữ liệu & tiền xử lý dữ liệu</a></span></li><li><span><a href=\"#Phân-tích-để-trả-lời\" data-toc-modified-id=\"Phân-tích-để-trả-lời-4\"><span class=\"toc-item-num\">4&nbsp;&nbsp;</span>Phân tích để trả lời</a></span></li><li><span><a href=\"#Nhìn-lại-quá-trình-làm-đồ-án\" data-toc-modified-id=\"Nhìn-lại-quá-trình-làm-đồ-án-5\"><span class=\"toc-item-num\">5&nbsp;&nbsp;</span>Nhìn lại quá trình làm đồ án</a></span></li><li><span><a href=\"#Tài-liệu-tham-khảo\" data-toc-modified-id=\"Tài-liệu-tham-khảo-6\"><span class=\"toc-item-num\">6&nbsp;&nbsp;</span>Tài liệu tham khảo</a></span></li></ul></div>"
   ]
  },
  {
   "cell_type": "markdown",
   "id": "d3fb528f",
   "metadata": {},
   "source": [
    "---"
   ]
  },
  {
   "cell_type": "markdown",
   "id": "45dae090",
   "metadata": {},
   "source": [
    "# Import thư viện"
   ]
  },
  {
   "cell_type": "code",
   "execution_count": 2,
   "id": "b185b7c4",
   "metadata": {},
   "outputs": [],
   "source": [
    "import numpy as np\n",
    "import pandas as pd\n",
    "import matplotlib.pyplot as plt"
   ]
  },
  {
   "cell_type": "markdown",
   "id": "a9c2858c",
   "metadata": {},
   "source": [
    "---"
   ]
  },
  {
   "cell_type": "markdown",
   "id": "a7e048a3",
   "metadata": {},
   "source": [
    "# Thu thập dữ liệu"
   ]
  },
  {
   "cell_type": "markdown",
   "id": "4f25ddd5",
   "metadata": {},
   "source": [
    "## Dữ liệu của bạn là về chủ đề gì và bạn lấy từ nguồn nào?"
   ]
  },
  {
   "cell_type": "markdown",
   "id": "16f03934",
   "metadata": {},
   "source": [
    "Dữ liệu nói về việc tiêm vaccine phòng Covid-19, ở nhiều quốc gia được cập nhập thường xuyên. Dữ liệu được lưu tại \n",
    "\n",
    "(https://github.com/owid/covid-19-data/tree/master/public/data/vaccinations)"
   ]
  },
  {
   "cell_type": "markdown",
   "id": "58ee2660",
   "metadata": {},
   "source": [
    "##  Người ta có cho phép bạn dùng dữ liệu như này không?\n"
   ]
  },
  {
   "cell_type": "markdown",
   "id": "e9bf2b2f",
   "metadata": {},
   "source": [
    "License gốc được public trên trang [OurWorldInData](https://ourworldindata.org/coronavirus), các dataset được cấp quyền tái sử dụng tự do \"[Reuse our work freely](https://ourworldindata.org/coronavirus#licence)\". Đây là trang web cung cấp đầy đủ thông tin, về tình hình dịch bệnh, số ca nhiễm, tử vong, phân phối vacine trên từng quốc gia, vùng lãnh thổ. Trang web được phát triển bởi trường [Đại học Oxford, Anh](https://www.oxfordmartin.ox.ac.uk/global-development) và tổ chức phi lợi nhuận [Global Change Data Lab](https://global-change-data-lab.org/) "
   ]
  },
  {
   "cell_type": "markdown",
   "id": "de3f75db",
   "metadata": {},
   "source": [
    "\n",
    "##  Người ta thu thập dữ liệu như thế nào?"
   ]
  },
  {
   "cell_type": "markdown",
   "id": "671a6434",
   "metadata": {},
   "source": [
    "Dữ liệu được các tổ chức tại các quốc gia cập nhập hiện tại có đã bao gồm dữ liệu của 169 quốc gia."
   ]
  },
  {
   "cell_type": "markdown",
   "id": "ffb0962e",
   "metadata": {},
   "source": [
    "---"
   ]
  },
  {
   "cell_type": "markdown",
   "id": "117a736a",
   "metadata": {},
   "source": [
    "# Khám phá dữ liệu & tiền xử lý dữ liệu"
   ]
  },
  {
   "cell_type": "markdown",
   "id": "ac90e6ef",
   "metadata": {},
   "source": [
    "## Đọc dữ liệu từ file csv vào dataframe"
   ]
  },
  {
   "cell_type": "code",
   "execution_count": 3,
   "id": "b6ea0611",
   "metadata": {},
   "outputs": [
    {
     "data": {
      "text/html": [
       "<div>\n",
       "<style scoped>\n",
       "    .dataframe tbody tr th:only-of-type {\n",
       "        vertical-align: middle;\n",
       "    }\n",
       "\n",
       "    .dataframe tbody tr th {\n",
       "        vertical-align: top;\n",
       "    }\n",
       "\n",
       "    .dataframe thead th {\n",
       "        text-align: right;\n",
       "    }\n",
       "</style>\n",
       "<table border=\"1\" class=\"dataframe\">\n",
       "  <thead>\n",
       "    <tr style=\"text-align: right;\">\n",
       "      <th></th>\n",
       "      <th>location</th>\n",
       "      <th>iso_code</th>\n",
       "      <th>date</th>\n",
       "      <th>total_vaccinations</th>\n",
       "      <th>people_vaccinated</th>\n",
       "      <th>people_fully_vaccinated</th>\n",
       "      <th>daily_vaccinations_raw</th>\n",
       "      <th>daily_vaccinations</th>\n",
       "      <th>total_vaccinations_per_hundred</th>\n",
       "      <th>people_vaccinated_per_hundred</th>\n",
       "      <th>people_fully_vaccinated_per_hundred</th>\n",
       "      <th>daily_vaccinations_per_million</th>\n",
       "    </tr>\n",
       "  </thead>\n",
       "  <tbody>\n",
       "    <tr>\n",
       "      <th>0</th>\n",
       "      <td>Afghanistan</td>\n",
       "      <td>AFG</td>\n",
       "      <td>2021-02-22</td>\n",
       "      <td>0.0</td>\n",
       "      <td>0.0</td>\n",
       "      <td>NaN</td>\n",
       "      <td>NaN</td>\n",
       "      <td>NaN</td>\n",
       "      <td>0.0</td>\n",
       "      <td>0.0</td>\n",
       "      <td>NaN</td>\n",
       "      <td>NaN</td>\n",
       "    </tr>\n",
       "    <tr>\n",
       "      <th>1</th>\n",
       "      <td>Afghanistan</td>\n",
       "      <td>AFG</td>\n",
       "      <td>2021-02-23</td>\n",
       "      <td>NaN</td>\n",
       "      <td>NaN</td>\n",
       "      <td>NaN</td>\n",
       "      <td>NaN</td>\n",
       "      <td>1367.0</td>\n",
       "      <td>NaN</td>\n",
       "      <td>NaN</td>\n",
       "      <td>NaN</td>\n",
       "      <td>35.0</td>\n",
       "    </tr>\n",
       "    <tr>\n",
       "      <th>2</th>\n",
       "      <td>Afghanistan</td>\n",
       "      <td>AFG</td>\n",
       "      <td>2021-02-24</td>\n",
       "      <td>NaN</td>\n",
       "      <td>NaN</td>\n",
       "      <td>NaN</td>\n",
       "      <td>NaN</td>\n",
       "      <td>1367.0</td>\n",
       "      <td>NaN</td>\n",
       "      <td>NaN</td>\n",
       "      <td>NaN</td>\n",
       "      <td>35.0</td>\n",
       "    </tr>\n",
       "    <tr>\n",
       "      <th>3</th>\n",
       "      <td>Afghanistan</td>\n",
       "      <td>AFG</td>\n",
       "      <td>2021-02-25</td>\n",
       "      <td>NaN</td>\n",
       "      <td>NaN</td>\n",
       "      <td>NaN</td>\n",
       "      <td>NaN</td>\n",
       "      <td>1367.0</td>\n",
       "      <td>NaN</td>\n",
       "      <td>NaN</td>\n",
       "      <td>NaN</td>\n",
       "      <td>35.0</td>\n",
       "    </tr>\n",
       "    <tr>\n",
       "      <th>4</th>\n",
       "      <td>Afghanistan</td>\n",
       "      <td>AFG</td>\n",
       "      <td>2021-02-26</td>\n",
       "      <td>NaN</td>\n",
       "      <td>NaN</td>\n",
       "      <td>NaN</td>\n",
       "      <td>NaN</td>\n",
       "      <td>1367.0</td>\n",
       "      <td>NaN</td>\n",
       "      <td>NaN</td>\n",
       "      <td>NaN</td>\n",
       "      <td>35.0</td>\n",
       "    </tr>\n",
       "  </tbody>\n",
       "</table>\n",
       "</div>"
      ],
      "text/plain": [
       "      location iso_code        date  total_vaccinations  people_vaccinated  \\\n",
       "0  Afghanistan      AFG  2021-02-22                 0.0                0.0   \n",
       "1  Afghanistan      AFG  2021-02-23                 NaN                NaN   \n",
       "2  Afghanistan      AFG  2021-02-24                 NaN                NaN   \n",
       "3  Afghanistan      AFG  2021-02-25                 NaN                NaN   \n",
       "4  Afghanistan      AFG  2021-02-26                 NaN                NaN   \n",
       "\n",
       "   people_fully_vaccinated  daily_vaccinations_raw  daily_vaccinations  \\\n",
       "0                      NaN                     NaN                 NaN   \n",
       "1                      NaN                     NaN              1367.0   \n",
       "2                      NaN                     NaN              1367.0   \n",
       "3                      NaN                     NaN              1367.0   \n",
       "4                      NaN                     NaN              1367.0   \n",
       "\n",
       "   total_vaccinations_per_hundred  people_vaccinated_per_hundred  \\\n",
       "0                             0.0                            0.0   \n",
       "1                             NaN                            NaN   \n",
       "2                             NaN                            NaN   \n",
       "3                             NaN                            NaN   \n",
       "4                             NaN                            NaN   \n",
       "\n",
       "   people_fully_vaccinated_per_hundred  daily_vaccinations_per_million  \n",
       "0                                  NaN                             NaN  \n",
       "1                                  NaN                            35.0  \n",
       "2                                  NaN                            35.0  \n",
       "3                                  NaN                            35.0  \n",
       "4                                  NaN                            35.0  "
      ]
     },
     "execution_count": 3,
     "metadata": {},
     "output_type": "execute_result"
    }
   ],
   "source": [
    "vaccinations=pd.read_csv('data.csv')\n",
    "vaccinations.head()"
   ]
  },
  {
   "cell_type": "markdown",
   "id": "cfbed169",
   "metadata": {},
   "source": [
    "## Dữ liệu có bao nhiêu dòng và bao nhiêu cột?"
   ]
  },
  {
   "cell_type": "markdown",
   "id": "e9e28b16",
   "metadata": {},
   "source": [
    "Dữ liệu có tổng cộng **30809** dòng và **12** cột"
   ]
  },
  {
   "cell_type": "code",
   "execution_count": 4,
   "id": "ed633b83",
   "metadata": {},
   "outputs": [
    {
     "name": "stdout",
     "output_type": "stream",
     "text": [
      "30809\n",
      "12\n"
     ]
    }
   ],
   "source": [
    "shape = vaccinations.shape\n",
    "n_rows=shape[0]\n",
    "n_cols=shape[1]\n",
    "print(n_rows)\n",
    "print(n_cols)"
   ]
  },
  {
   "cell_type": "markdown",
   "id": "cc81adce",
   "metadata": {},
   "source": [
    "## Mỗi dòng có ý nghĩa gì? Có vấn đề các dòng có ý nghĩa khác nhau không?"
   ]
  },
  {
   "cell_type": "markdown",
   "id": "06a67911",
   "metadata": {},
   "source": [
    "Mỗi dòng cho biết số người đã tiêm vaccine, loại vaccine, đã tiêm đủ 2 mũi chưa cho trong các ngày được ghi nhận. Ngoài ra cũng có biết thêm thông tin số người bị bệnh theo tỉ lệ để thể hiện được quy mô của dịch bênh theo quốc gia, khu vực. Do các dòng đều được các tổ chức lớn thêm nên ít có dòng sai khác."
   ]
  },
  {
   "cell_type": "markdown",
   "id": "1851ee25",
   "metadata": {},
   "source": [
    "## Dữ liệu có các dòng bị lặp không?"
   ]
  },
  {
   "cell_type": "code",
   "execution_count": 5,
   "id": "fe158075",
   "metadata": {},
   "outputs": [
    {
     "data": {
      "text/plain": [
       "False"
      ]
     },
     "execution_count": 5,
     "metadata": {},
     "output_type": "execute_result"
    }
   ],
   "source": [
    "vaccinations[vaccinations.duplicated()].shape[0] != 0"
   ]
  },
  {
   "cell_type": "markdown",
   "id": "15bc402c",
   "metadata": {},
   "source": [
    "## Mỗi cột có ý nghĩa gì?¶"
   ]
  },
  {
   "cell_type": "markdown",
   "id": "fe4efcc1",
   "metadata": {},
   "source": [
    "**Ý nghĩa của từng cột:**\n",
    "- **location**: Tên quốc gia (hoặc vùng lãnh thổ trong 1 quốc gia(.\n",
    "- **iso_code**: ISO 3166-1  và 3 ký tự cuối là mã quốc gia.\n",
    "- **date**: Ngày quan trắc.\n",
    "- **total_vaccinations**: Tổng số liều đã được sử dụng. Đơn vị tính là liều đã tiêm, có thể không bằng tổng số người đã tiêm. Nếu một người tiêm một liều thì đếm tăng lên 1 đơn vị. Nếu họ tiêm liều thứ 2 thì cũng tăng thêm 1 đơn vị\n",
    "- **people_vaccinated**: Tổng số người nhận ít nhất một mũi tiêm. Nếu một người đã tiêm 1 mũi, thì đếm tăng lên 1 đơn vị. Nếu họ được tiêm liều thứ 2, thi giữ nguyên.\n",
    "- **people_fully_vaccinated**: Tổng số người đã tiêm đủ 2 liều vaccine. Nếu một người nhận đủ 2 liều vaccine, thì đếm tăng lên 1. Nếu học chỉ mới tiêm 1 liều thì giữ nguyên\n",
    "- **daily_vaccinations_raw**: Số lượng liều vaccine được sử dụng mỗi ngày, cập nhật theo ngày.\n",
    "- **daily_vaccintions**:Số lượng liều vaccine được sử dụng mỗi ngày, cập nhật theo ngày. Dữ liệu đã được chuẩn hóa hơn.\n",
    "- **total_vaccinations_per_hundred**: total_vaccinations trên 100 dân trong tổng dân số của quôc gia đó.\n",
    "- **people_vaccinated_per_hundred**: people_vaccinated trên 100 dân trong tổng dân số quốc gia đó.\n",
    "- **people_fully_vaccinated_per_hundred**: Tỗng số người đã được tiểm đủ 2 liều vaccine. Nếu một người tiêm liều đầu tiên thì giữ nguyên. Nếu họ nhận liều thứ 2, số liệu tính tăng thêm 1 đơn vị.\n",
    "- **daily_vaccinations_per_million**: daily_vaccintions trên 1,000,000 dân trong tổng dân số của quốc gia đó.\n",
    "\n",
    "**Note:**\\\n",
    "    - Mô tả trên được dịch từ bản [mô tả gốc](https://github.com/owid/covid-19-data/blob/master/public/data/vaccinations/README.md)"
   ]
  },
  {
   "cell_type": "markdown",
   "id": "db69bbb7",
   "metadata": {},
   "source": [
    "## Mỗi cột hiện đang có kiểu dữ liệu gì? Có cột nào có kiểu dữ liệu chưa phù hợp để có thể xử lý tiếp không?"
   ]
  },
  {
   "cell_type": "code",
   "execution_count": 6,
   "id": "37095078",
   "metadata": {},
   "outputs": [
    {
     "data": {
      "text/plain": [
       "location                                object\n",
       "iso_code                                object\n",
       "date                                    object\n",
       "total_vaccinations                     float64\n",
       "people_vaccinated                      float64\n",
       "people_fully_vaccinated                float64\n",
       "daily_vaccinations_raw                 float64\n",
       "daily_vaccinations                     float64\n",
       "total_vaccinations_per_hundred         float64\n",
       "people_vaccinated_per_hundred          float64\n",
       "people_fully_vaccinated_per_hundred    float64\n",
       "daily_vaccinations_per_million         float64\n",
       "dtype: object"
      ]
     },
     "execution_count": 6,
     "metadata": {},
     "output_type": "execute_result"
    }
   ],
   "source": [
    "vaccinations.dtypes"
   ]
  },
  {
   "cell_type": "markdown",
   "id": "ff1ece3b",
   "metadata": {},
   "source": [
    "**Nhận xét:**\n",
    "- Cần chuyển cột date về kiểu dữ liệu dạng date\n",
    "- "
   ]
  },
  {
   "cell_type": "markdown",
   "id": "6fabb7dc",
   "metadata": {},
   "source": [
    "## Số-lượng/tỉ-lệ các giá trị thiếu?"
   ]
  },
  {
   "cell_type": "code",
   "execution_count": 18,
   "id": "b9895868",
   "metadata": {},
   "outputs": [
    {
     "data": {
      "text/html": [
       "<div>\n",
       "<style scoped>\n",
       "    .dataframe tbody tr th:only-of-type {\n",
       "        vertical-align: middle;\n",
       "    }\n",
       "\n",
       "    .dataframe tbody tr th {\n",
       "        vertical-align: top;\n",
       "    }\n",
       "\n",
       "    .dataframe thead th {\n",
       "        text-align: right;\n",
       "    }\n",
       "</style>\n",
       "<table border=\"1\" class=\"dataframe\">\n",
       "  <thead>\n",
       "    <tr style=\"text-align: right;\">\n",
       "      <th></th>\n",
       "      <th>Number of null</th>\n",
       "      <th>Ratio of null</th>\n",
       "    </tr>\n",
       "  </thead>\n",
       "  <tbody>\n",
       "    <tr>\n",
       "      <th>location</th>\n",
       "      <td>0</td>\n",
       "      <td>0.000000</td>\n",
       "    </tr>\n",
       "    <tr>\n",
       "      <th>iso_code</th>\n",
       "      <td>0</td>\n",
       "      <td>0.000000</td>\n",
       "    </tr>\n",
       "    <tr>\n",
       "      <th>date</th>\n",
       "      <td>0</td>\n",
       "      <td>0.000000</td>\n",
       "    </tr>\n",
       "    <tr>\n",
       "      <th>total_vaccinations</th>\n",
       "      <td>12579</td>\n",
       "      <td>40.828979</td>\n",
       "    </tr>\n",
       "    <tr>\n",
       "      <th>people_vaccinated</th>\n",
       "      <td>13403</td>\n",
       "      <td>43.503522</td>\n",
       "    </tr>\n",
       "    <tr>\n",
       "      <th>people_fully_vaccinated</th>\n",
       "      <td>16378</td>\n",
       "      <td>53.159791</td>\n",
       "    </tr>\n",
       "    <tr>\n",
       "      <th>daily_vaccinations_raw</th>\n",
       "      <td>15388</td>\n",
       "      <td>49.946444</td>\n",
       "    </tr>\n",
       "    <tr>\n",
       "      <th>daily_vaccinations</th>\n",
       "      <td>288</td>\n",
       "      <td>0.934792</td>\n",
       "    </tr>\n",
       "    <tr>\n",
       "      <th>total_vaccinations_per_hundred</th>\n",
       "      <td>12579</td>\n",
       "      <td>40.828979</td>\n",
       "    </tr>\n",
       "    <tr>\n",
       "      <th>people_vaccinated_per_hundred</th>\n",
       "      <td>13403</td>\n",
       "      <td>43.503522</td>\n",
       "    </tr>\n",
       "    <tr>\n",
       "      <th>people_fully_vaccinated_per_hundred</th>\n",
       "      <td>16378</td>\n",
       "      <td>53.159791</td>\n",
       "    </tr>\n",
       "    <tr>\n",
       "      <th>daily_vaccinations_per_million</th>\n",
       "      <td>288</td>\n",
       "      <td>0.934792</td>\n",
       "    </tr>\n",
       "  </tbody>\n",
       "</table>\n",
       "</div>"
      ],
      "text/plain": [
       "                                     Number of null  Ratio of null\n",
       "location                                          0       0.000000\n",
       "iso_code                                          0       0.000000\n",
       "date                                              0       0.000000\n",
       "total_vaccinations                            12579      40.828979\n",
       "people_vaccinated                             13403      43.503522\n",
       "people_fully_vaccinated                       16378      53.159791\n",
       "daily_vaccinations_raw                        15388      49.946444\n",
       "daily_vaccinations                              288       0.934792\n",
       "total_vaccinations_per_hundred                12579      40.828979\n",
       "people_vaccinated_per_hundred                 13403      43.503522\n",
       "people_fully_vaccinated_per_hundred           16378      53.159791\n",
       "daily_vaccinations_per_million                  288       0.934792"
      ]
     },
     "execution_count": 18,
     "metadata": {},
     "output_type": "execute_result"
    }
   ],
   "source": [
    "number_of_null = vaccinations.isna().sum()\n",
    "ratio_of_null = vaccinations.isnull().sum() * 100 / len(vaccinations)\n",
    "\n",
    "number_ratio_of_null = pd.concat([number_of_null, ratio_of_null], axis=1)\n",
    "number_ratio_of_null.columns = ['Number of null', 'Ratio of null']\n",
    "\n",
    "number_ratio_of_null"
   ]
  },
  {
   "cell_type": "markdown",
   "id": "eba76bd0",
   "metadata": {},
   "source": [
    "## Tiền xử lý bỏ cột có giá trị thiếu nhiều và bỏ cột chúng tôi không hiểu rõ ý nghĩa"
   ]
  },
  {
   "cell_type": "code",
   "execution_count": 22,
   "id": "1df2fbb0",
   "metadata": {},
   "outputs": [
    {
     "data": {
      "text/html": [
       "<div>\n",
       "<style scoped>\n",
       "    .dataframe tbody tr th:only-of-type {\n",
       "        vertical-align: middle;\n",
       "    }\n",
       "\n",
       "    .dataframe tbody tr th {\n",
       "        vertical-align: top;\n",
       "    }\n",
       "\n",
       "    .dataframe thead th {\n",
       "        text-align: right;\n",
       "    }\n",
       "</style>\n",
       "<table border=\"1\" class=\"dataframe\">\n",
       "  <thead>\n",
       "    <tr style=\"text-align: right;\">\n",
       "      <th></th>\n",
       "      <th>location</th>\n",
       "      <th>iso_code</th>\n",
       "      <th>date</th>\n",
       "      <th>total_vaccinations</th>\n",
       "      <th>people_vaccinated</th>\n",
       "      <th>total_vaccinations_per_hundred</th>\n",
       "      <th>people_vaccinated_per_hundred</th>\n",
       "      <th>daily_vaccinations</th>\n",
       "      <th>daily_vaccinations_per_million</th>\n",
       "    </tr>\n",
       "  </thead>\n",
       "  <tbody>\n",
       "    <tr>\n",
       "      <th>0</th>\n",
       "      <td>Afghanistan</td>\n",
       "      <td>AFG</td>\n",
       "      <td>2021-02-22</td>\n",
       "      <td>0.0</td>\n",
       "      <td>0.0</td>\n",
       "      <td>0.00</td>\n",
       "      <td>0.00</td>\n",
       "      <td>NaN</td>\n",
       "      <td>NaN</td>\n",
       "    </tr>\n",
       "    <tr>\n",
       "      <th>1</th>\n",
       "      <td>Afghanistan</td>\n",
       "      <td>AFG</td>\n",
       "      <td>2021-02-23</td>\n",
       "      <td>NaN</td>\n",
       "      <td>NaN</td>\n",
       "      <td>NaN</td>\n",
       "      <td>NaN</td>\n",
       "      <td>1367.0</td>\n",
       "      <td>35.0</td>\n",
       "    </tr>\n",
       "    <tr>\n",
       "      <th>2</th>\n",
       "      <td>Afghanistan</td>\n",
       "      <td>AFG</td>\n",
       "      <td>2021-02-24</td>\n",
       "      <td>NaN</td>\n",
       "      <td>NaN</td>\n",
       "      <td>NaN</td>\n",
       "      <td>NaN</td>\n",
       "      <td>1367.0</td>\n",
       "      <td>35.0</td>\n",
       "    </tr>\n",
       "    <tr>\n",
       "      <th>3</th>\n",
       "      <td>Afghanistan</td>\n",
       "      <td>AFG</td>\n",
       "      <td>2021-02-25</td>\n",
       "      <td>NaN</td>\n",
       "      <td>NaN</td>\n",
       "      <td>NaN</td>\n",
       "      <td>NaN</td>\n",
       "      <td>1367.0</td>\n",
       "      <td>35.0</td>\n",
       "    </tr>\n",
       "    <tr>\n",
       "      <th>4</th>\n",
       "      <td>Afghanistan</td>\n",
       "      <td>AFG</td>\n",
       "      <td>2021-02-26</td>\n",
       "      <td>NaN</td>\n",
       "      <td>NaN</td>\n",
       "      <td>NaN</td>\n",
       "      <td>NaN</td>\n",
       "      <td>1367.0</td>\n",
       "      <td>35.0</td>\n",
       "    </tr>\n",
       "    <tr>\n",
       "      <th>...</th>\n",
       "      <td>...</td>\n",
       "      <td>...</td>\n",
       "      <td>...</td>\n",
       "      <td>...</td>\n",
       "      <td>...</td>\n",
       "      <td>...</td>\n",
       "      <td>...</td>\n",
       "      <td>...</td>\n",
       "      <td>...</td>\n",
       "    </tr>\n",
       "    <tr>\n",
       "      <th>30804</th>\n",
       "      <td>Zimbabwe</td>\n",
       "      <td>ZWE</td>\n",
       "      <td>2021-06-26</td>\n",
       "      <td>1249508.0</td>\n",
       "      <td>747330.0</td>\n",
       "      <td>8.41</td>\n",
       "      <td>5.03</td>\n",
       "      <td>16513.0</td>\n",
       "      <td>1111.0</td>\n",
       "    </tr>\n",
       "    <tr>\n",
       "      <th>30805</th>\n",
       "      <td>Zimbabwe</td>\n",
       "      <td>ZWE</td>\n",
       "      <td>2021-06-27</td>\n",
       "      <td>1275259.0</td>\n",
       "      <td>756291.0</td>\n",
       "      <td>8.58</td>\n",
       "      <td>5.09</td>\n",
       "      <td>19504.0</td>\n",
       "      <td>1312.0</td>\n",
       "    </tr>\n",
       "    <tr>\n",
       "      <th>30806</th>\n",
       "      <td>Zimbabwe</td>\n",
       "      <td>ZWE</td>\n",
       "      <td>2021-06-28</td>\n",
       "      <td>1299154.0</td>\n",
       "      <td>764248.0</td>\n",
       "      <td>8.74</td>\n",
       "      <td>5.14</td>\n",
       "      <td>22615.0</td>\n",
       "      <td>1522.0</td>\n",
       "    </tr>\n",
       "    <tr>\n",
       "      <th>30807</th>\n",
       "      <td>Zimbabwe</td>\n",
       "      <td>ZWE</td>\n",
       "      <td>2021-06-29</td>\n",
       "      <td>1315597.0</td>\n",
       "      <td>770709.0</td>\n",
       "      <td>8.85</td>\n",
       "      <td>5.19</td>\n",
       "      <td>24174.0</td>\n",
       "      <td>1626.0</td>\n",
       "    </tr>\n",
       "    <tr>\n",
       "      <th>30808</th>\n",
       "      <td>Zimbabwe</td>\n",
       "      <td>ZWE</td>\n",
       "      <td>2021-06-30</td>\n",
       "      <td>1332438.0</td>\n",
       "      <td>777161.0</td>\n",
       "      <td>8.96</td>\n",
       "      <td>5.23</td>\n",
       "      <td>23656.0</td>\n",
       "      <td>1592.0</td>\n",
       "    </tr>\n",
       "  </tbody>\n",
       "</table>\n",
       "<p>30809 rows × 9 columns</p>\n",
       "</div>"
      ],
      "text/plain": [
       "          location iso_code        date  total_vaccinations  \\\n",
       "0      Afghanistan      AFG  2021-02-22                 0.0   \n",
       "1      Afghanistan      AFG  2021-02-23                 NaN   \n",
       "2      Afghanistan      AFG  2021-02-24                 NaN   \n",
       "3      Afghanistan      AFG  2021-02-25                 NaN   \n",
       "4      Afghanistan      AFG  2021-02-26                 NaN   \n",
       "...            ...      ...         ...                 ...   \n",
       "30804     Zimbabwe      ZWE  2021-06-26           1249508.0   \n",
       "30805     Zimbabwe      ZWE  2021-06-27           1275259.0   \n",
       "30806     Zimbabwe      ZWE  2021-06-28           1299154.0   \n",
       "30807     Zimbabwe      ZWE  2021-06-29           1315597.0   \n",
       "30808     Zimbabwe      ZWE  2021-06-30           1332438.0   \n",
       "\n",
       "       people_vaccinated  total_vaccinations_per_hundred  \\\n",
       "0                    0.0                            0.00   \n",
       "1                    NaN                             NaN   \n",
       "2                    NaN                             NaN   \n",
       "3                    NaN                             NaN   \n",
       "4                    NaN                             NaN   \n",
       "...                  ...                             ...   \n",
       "30804           747330.0                            8.41   \n",
       "30805           756291.0                            8.58   \n",
       "30806           764248.0                            8.74   \n",
       "30807           770709.0                            8.85   \n",
       "30808           777161.0                            8.96   \n",
       "\n",
       "       people_vaccinated_per_hundred  daily_vaccinations  \\\n",
       "0                               0.00                 NaN   \n",
       "1                                NaN              1367.0   \n",
       "2                                NaN              1367.0   \n",
       "3                                NaN              1367.0   \n",
       "4                                NaN              1367.0   \n",
       "...                              ...                 ...   \n",
       "30804                           5.03             16513.0   \n",
       "30805                           5.09             19504.0   \n",
       "30806                           5.14             22615.0   \n",
       "30807                           5.19             24174.0   \n",
       "30808                           5.23             23656.0   \n",
       "\n",
       "       daily_vaccinations_per_million  \n",
       "0                                 NaN  \n",
       "1                                35.0  \n",
       "2                                35.0  \n",
       "3                                35.0  \n",
       "4                                35.0  \n",
       "...                               ...  \n",
       "30804                          1111.0  \n",
       "30805                          1312.0  \n",
       "30806                          1522.0  \n",
       "30807                          1626.0  \n",
       "30808                          1592.0  \n",
       "\n",
       "[30809 rows x 9 columns]"
      ]
     },
     "execution_count": 22,
     "metadata": {},
     "output_type": "execute_result"
    }
   ],
   "source": [
    "new_vaccinations = vaccinations[['location', 'iso_code', 'date', 'total_vaccinations', 'people_vaccinated', 'total_vaccinations_per_hundred', 'people_vaccinated_per_hundred', 'daily_vaccinations', 'daily_vaccinations_per_million']]\n",
    "new_vaccinations"
   ]
  },
  {
   "cell_type": "markdown",
   "id": "3b3d7a44",
   "metadata": {},
   "source": [
    "### Điều chỉnh kiểu dữ liệu cho phù hợp cho các cột"
   ]
  },
  {
   "cell_type": "code",
   "execution_count": null,
   "id": "4f5ecb5f",
   "metadata": {},
   "outputs": [],
   "source": []
  },
  {
   "cell_type": "markdown",
   "id": "a9309538",
   "metadata": {},
   "source": [
    "### Xem lại dữ liệu sau khi đã điều chỉnh"
   ]
  },
  {
   "cell_type": "code",
   "execution_count": null,
   "id": "47d55cfd",
   "metadata": {},
   "outputs": [],
   "source": []
  },
  {
   "cell_type": "markdown",
   "id": "4b527c6e",
   "metadata": {},
   "source": [
    "## Với mỗi cột có kiểu dữ liệu dạng số (numeric), các giá trị được phân bố như thế nào?"
   ]
  },
  {
   "cell_type": "markdown",
   "id": "44798330",
   "metadata": {},
   "source": []
  },
  {
   "cell_type": "markdown",
   "id": "66a24860",
   "metadata": {},
   "source": [
    "## Với mỗi cột có kiểu dữ liệu dạng phân loại (categorical), các giá trị được phân bố như thế nào?"
   ]
  },
  {
   "cell_type": "code",
   "execution_count": null,
   "id": "328ce4ce",
   "metadata": {},
   "outputs": [],
   "source": []
  },
  {
   "cell_type": "markdown",
   "id": "fca1dcf1",
   "metadata": {},
   "source": [
    "---\n"
   ]
  },
  {
   "cell_type": "markdown",
   "id": "832966af",
   "metadata": {},
   "source": [
    "# Xác định các câu hỏi"
   ]
  },
  {
   "cell_type": "markdown",
   "id": "4c977362",
   "metadata": {},
   "source": []
  },
  {
   "cell_type": "markdown",
   "id": "91fb16a6",
   "metadata": {},
   "source": [
    "## Câu hỏi là gì?"
   ]
  },
  {
   "cell_type": "code",
   "execution_count": null,
   "id": "04ad0704",
   "metadata": {},
   "outputs": [],
   "source": []
  },
  {
   "cell_type": "markdown",
   "id": "cbfbf43b",
   "metadata": {},
   "source": [
    "## Nếu trả lời được câu hỏi thì sẽ có lợi ích gì?"
   ]
  },
  {
   "cell_type": "code",
   "execution_count": null,
   "id": "3180396b",
   "metadata": {},
   "outputs": [],
   "source": []
  },
  {
   "cell_type": "markdown",
   "id": "9efef7ab",
   "metadata": {},
   "source": [
    "---\n"
   ]
  },
  {
   "cell_type": "markdown",
   "id": "f2c6ecad",
   "metadata": {},
   "source": [
    "# Phân tích để trả lời"
   ]
  },
  {
   "cell_type": "code",
   "execution_count": null,
   "id": "c72adfd3",
   "metadata": {},
   "outputs": [],
   "source": []
  },
  {
   "cell_type": "markdown",
   "id": "a9c0a347",
   "metadata": {},
   "source": [
    "---\n"
   ]
  },
  {
   "cell_type": "markdown",
   "id": "9d89c5a0",
   "metadata": {},
   "source": [
    "# Nhìn lại quá trình làm đồ án"
   ]
  },
  {
   "cell_type": "code",
   "execution_count": null,
   "id": "a9462acc",
   "metadata": {},
   "outputs": [],
   "source": []
  },
  {
   "cell_type": "markdown",
   "id": "938671c8",
   "metadata": {},
   "source": [
    "---\n"
   ]
  },
  {
   "cell_type": "markdown",
   "id": "4255a084",
   "metadata": {},
   "source": [
    "# Tài liệu tham khảo"
   ]
  },
  {
   "cell_type": "code",
   "execution_count": null,
   "id": "c7898db3",
   "metadata": {},
   "outputs": [],
   "source": []
  }
 ],
 "metadata": {
  "kernelspec": {
   "display_name": "Python 3",
   "language": "python",
   "name": "python3"
  },
  "language_info": {
   "codemirror_mode": {
    "name": "ipython",
    "version": 3
   },
   "file_extension": ".py",
   "mimetype": "text/x-python",
   "name": "python",
   "nbconvert_exporter": "python",
   "pygments_lexer": "ipython3",
   "version": "3.8.8"
  }
 },
 "nbformat": 4,
 "nbformat_minor": 5
}
