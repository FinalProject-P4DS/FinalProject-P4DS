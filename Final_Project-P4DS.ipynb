{
 "cells": [
  {
   "cell_type": "markdown",
   "id": "5d70c4be",
   "metadata": {},
   "source": [
    "# Đồ án cuối kỳ:\n",
    "(Cập nhật lần cuối: 04/07/2021)\\\n",
    "Nhóm 7\n",
    "Thành viên:\n",
    " 1. 18120062 - Nguyễn Hoàng Nam\n",
    " 2. 18120096 - Trương Đại Triều"
   ]
  },
  {
   "cell_type": "markdown",
   "id": "32767f5b",
   "metadata": {},
   "source": [
    "----"
   ]
  },
  {
   "cell_type": "markdown",
   "id": "c8e9b7c2",
   "metadata": {},
   "source": [
    "<h1>Bảng nội dung<span class=\"tocSkip\"></span></h1>\n",
    "<div class=\"toc\"><ul class=\"toc-item\"><li><span><a href=\"#Import-thư-viện\" data-toc-modified-id=\"Import-thư-viện-1\"><span class=\"toc-item-num\">1&nbsp;&nbsp;</span>Import thư viện</a></span></li><li><span><a href=\"#Thu-thập-dữ-liệu\" data-toc-modified-id=\"Thu-thập-dữ-liệu-2\"><span class=\"toc-item-num\">2&nbsp;&nbsp;</span>Thu thập dữ liệu</a></span></li><li><span><a href=\"#Khám-phá-dữ-liệu-&-tiền-xử-lý-dữ-liệu\" data-toc-modified-id=\"Khám-phá-dữ-liệu-&-tiền-xử-lý-dữ-liệu-3\"><span class=\"toc-item-num\">3&nbsp;&nbsp;</span>Khám phá dữ liệu & tiền xử lý dữ liệu</a></span></li><li><span><a href=\"#Phân-tích-để-trả-lời\" data-toc-modified-id=\"Phân-tích-để-trả-lời-4\"><span class=\"toc-item-num\">4&nbsp;&nbsp;</span>Phân tích để trả lời</a></span></li><li><span><a href=\"#Nhìn-lại-quá-trình-làm-đồ-án\" data-toc-modified-id=\"Nhìn-lại-quá-trình-làm-đồ-án-5\"><span class=\"toc-item-num\">5&nbsp;&nbsp;</span>Nhìn lại quá trình làm đồ án</a></span></li><li><span><a href=\"#Tài-liệu-tham-khảo\" data-toc-modified-id=\"Tài-liệu-tham-khảo-6\"><span class=\"toc-item-num\">6&nbsp;&nbsp;</span>Tài liệu tham khảo</a></span></li></ul></div>"
   ]
  },
  {
   "cell_type": "markdown",
   "id": "d3fb528f",
   "metadata": {},
   "source": [
    "---"
   ]
  },
  {
   "cell_type": "markdown",
   "id": "45dae090",
   "metadata": {},
   "source": [
    "# Import thư viện"
   ]
  },
  {
   "cell_type": "code",
   "execution_count": 2,
   "id": "b185b7c4",
   "metadata": {},
   "outputs": [],
   "source": [
    "import numpy as np\n",
    "import pandas as pd\n",
    "import matplotlib.pyplot as plt\n",
    "from datetime import datetime"
   ]
  },
  {
   "cell_type": "markdown",
   "id": "a9c2858c",
   "metadata": {},
   "source": [
    "---"
   ]
  },
  {
   "cell_type": "markdown",
   "id": "a7e048a3",
   "metadata": {},
   "source": [
    "# Thu thập dữ liệu"
   ]
  },
  {
   "cell_type": "markdown",
   "id": "4f25ddd5",
   "metadata": {},
   "source": [
    "## Dữ liệu của bạn là về chủ đề gì và bạn lấy từ nguồn nào?"
   ]
  },
  {
   "cell_type": "markdown",
   "id": "16f03934",
   "metadata": {},
   "source": [
    "Dữ liệu nói về việc tiêm vaccine phòng Covid-19, ở nhiều quốc gia được cập nhập thường xuyên. Dữ liệu được lưu tại \n",
    "\n",
    "(https://github.com/owid/covid-19-data/tree/master/public/data/vaccinations)"
   ]
  },
  {
   "cell_type": "markdown",
   "id": "58ee2660",
   "metadata": {},
   "source": [
    "##  Người ta có cho phép bạn dùng dữ liệu như này không?\n"
   ]
  },
  {
   "cell_type": "markdown",
   "id": "e9bf2b2f",
   "metadata": {},
   "source": [
    "License gốc được public trên trang [OurWorldInData](https://ourworldindata.org/coronavirus), các dataset được cấp quyền tái sử dụng tự do \"[Reuse our work freely](https://ourworldindata.org/coronavirus#licence)\". Đây là trang web cung cấp đầy đủ thông tin, về tình hình dịch bệnh, số ca nhiễm, tử vong, phân phối vacine trên từng quốc gia, vùng lãnh thổ. Trang web được phát triển bởi trường [Đại học Oxford, Anh](https://www.oxfordmartin.ox.ac.uk/global-development) và tổ chức phi lợi nhuận [Global Change Data Lab](https://global-change-data-lab.org/) "
   ]
  },
  {
   "cell_type": "markdown",
   "id": "de3f75db",
   "metadata": {},
   "source": [
    "\n",
    "##  Người ta thu thập dữ liệu như thế nào?"
   ]
  },
  {
   "cell_type": "markdown",
   "id": "671a6434",
   "metadata": {},
   "source": [
    "Dữ liệu được các tổ chức tại các quốc gia cập nhập hiện tại có đã bao gồm dữ liệu của 169 quốc gia."
   ]
  },
  {
   "cell_type": "markdown",
   "id": "ffb0962e",
   "metadata": {},
   "source": [
    "---"
   ]
  },
  {
   "cell_type": "markdown",
   "id": "117a736a",
   "metadata": {},
   "source": [
    "# Khám phá dữ liệu & tiền xử lý dữ liệu"
   ]
  },
  {
   "cell_type": "markdown",
   "id": "ac90e6ef",
   "metadata": {},
   "source": [
    "## Đọc dữ liệu từ file csv vào dataframe"
   ]
  },
  {
   "cell_type": "code",
   "execution_count": 3,
   "id": "b6ea0611",
   "metadata": {},
   "outputs": [
    {
     "data": {
      "text/html": [
       "<div>\n",
       "<style scoped>\n",
       "    .dataframe tbody tr th:only-of-type {\n",
       "        vertical-align: middle;\n",
       "    }\n",
       "\n",
       "    .dataframe tbody tr th {\n",
       "        vertical-align: top;\n",
       "    }\n",
       "\n",
       "    .dataframe thead th {\n",
       "        text-align: right;\n",
       "    }\n",
       "</style>\n",
       "<table border=\"1\" class=\"dataframe\">\n",
       "  <thead>\n",
       "    <tr style=\"text-align: right;\">\n",
       "      <th></th>\n",
       "      <th>location</th>\n",
       "      <th>iso_code</th>\n",
       "      <th>date</th>\n",
       "      <th>total_vaccinations</th>\n",
       "      <th>people_vaccinated</th>\n",
       "      <th>people_fully_vaccinated</th>\n",
       "      <th>daily_vaccinations_raw</th>\n",
       "      <th>daily_vaccinations</th>\n",
       "      <th>total_vaccinations_per_hundred</th>\n",
       "      <th>people_vaccinated_per_hundred</th>\n",
       "      <th>people_fully_vaccinated_per_hundred</th>\n",
       "      <th>daily_vaccinations_per_million</th>\n",
       "    </tr>\n",
       "  </thead>\n",
       "  <tbody>\n",
       "    <tr>\n",
       "      <th>0</th>\n",
       "      <td>Afghanistan</td>\n",
       "      <td>AFG</td>\n",
       "      <td>2021-02-22</td>\n",
       "      <td>0.0</td>\n",
       "      <td>0.0</td>\n",
       "      <td>NaN</td>\n",
       "      <td>NaN</td>\n",
       "      <td>NaN</td>\n",
       "      <td>0.0</td>\n",
       "      <td>0.0</td>\n",
       "      <td>NaN</td>\n",
       "      <td>NaN</td>\n",
       "    </tr>\n",
       "    <tr>\n",
       "      <th>1</th>\n",
       "      <td>Afghanistan</td>\n",
       "      <td>AFG</td>\n",
       "      <td>2021-02-23</td>\n",
       "      <td>NaN</td>\n",
       "      <td>NaN</td>\n",
       "      <td>NaN</td>\n",
       "      <td>NaN</td>\n",
       "      <td>1367.0</td>\n",
       "      <td>NaN</td>\n",
       "      <td>NaN</td>\n",
       "      <td>NaN</td>\n",
       "      <td>35.0</td>\n",
       "    </tr>\n",
       "    <tr>\n",
       "      <th>2</th>\n",
       "      <td>Afghanistan</td>\n",
       "      <td>AFG</td>\n",
       "      <td>2021-02-24</td>\n",
       "      <td>NaN</td>\n",
       "      <td>NaN</td>\n",
       "      <td>NaN</td>\n",
       "      <td>NaN</td>\n",
       "      <td>1367.0</td>\n",
       "      <td>NaN</td>\n",
       "      <td>NaN</td>\n",
       "      <td>NaN</td>\n",
       "      <td>35.0</td>\n",
       "    </tr>\n",
       "    <tr>\n",
       "      <th>3</th>\n",
       "      <td>Afghanistan</td>\n",
       "      <td>AFG</td>\n",
       "      <td>2021-02-25</td>\n",
       "      <td>NaN</td>\n",
       "      <td>NaN</td>\n",
       "      <td>NaN</td>\n",
       "      <td>NaN</td>\n",
       "      <td>1367.0</td>\n",
       "      <td>NaN</td>\n",
       "      <td>NaN</td>\n",
       "      <td>NaN</td>\n",
       "      <td>35.0</td>\n",
       "    </tr>\n",
       "    <tr>\n",
       "      <th>4</th>\n",
       "      <td>Afghanistan</td>\n",
       "      <td>AFG</td>\n",
       "      <td>2021-02-26</td>\n",
       "      <td>NaN</td>\n",
       "      <td>NaN</td>\n",
       "      <td>NaN</td>\n",
       "      <td>NaN</td>\n",
       "      <td>1367.0</td>\n",
       "      <td>NaN</td>\n",
       "      <td>NaN</td>\n",
       "      <td>NaN</td>\n",
       "      <td>35.0</td>\n",
       "    </tr>\n",
       "  </tbody>\n",
       "</table>\n",
       "</div>"
      ],
      "text/plain": [
       "      location iso_code        date  total_vaccinations  people_vaccinated  \\\n",
       "0  Afghanistan      AFG  2021-02-22                 0.0                0.0   \n",
       "1  Afghanistan      AFG  2021-02-23                 NaN                NaN   \n",
       "2  Afghanistan      AFG  2021-02-24                 NaN                NaN   \n",
       "3  Afghanistan      AFG  2021-02-25                 NaN                NaN   \n",
       "4  Afghanistan      AFG  2021-02-26                 NaN                NaN   \n",
       "\n",
       "   people_fully_vaccinated  daily_vaccinations_raw  daily_vaccinations  \\\n",
       "0                      NaN                     NaN                 NaN   \n",
       "1                      NaN                     NaN              1367.0   \n",
       "2                      NaN                     NaN              1367.0   \n",
       "3                      NaN                     NaN              1367.0   \n",
       "4                      NaN                     NaN              1367.0   \n",
       "\n",
       "   total_vaccinations_per_hundred  people_vaccinated_per_hundred  \\\n",
       "0                             0.0                            0.0   \n",
       "1                             NaN                            NaN   \n",
       "2                             NaN                            NaN   \n",
       "3                             NaN                            NaN   \n",
       "4                             NaN                            NaN   \n",
       "\n",
       "   people_fully_vaccinated_per_hundred  daily_vaccinations_per_million  \n",
       "0                                  NaN                             NaN  \n",
       "1                                  NaN                            35.0  \n",
       "2                                  NaN                            35.0  \n",
       "3                                  NaN                            35.0  \n",
       "4                                  NaN                            35.0  "
      ]
     },
     "execution_count": 3,
     "metadata": {},
     "output_type": "execute_result"
    }
   ],
   "source": [
    "vaccinations=pd.read_csv('data.csv')\n",
    "vaccinations.head()"
   ]
  },
  {
   "cell_type": "markdown",
   "id": "cfbed169",
   "metadata": {},
   "source": [
    "## Dữ liệu có bao nhiêu dòng và bao nhiêu cột?"
   ]
  },
  {
   "cell_type": "markdown",
   "id": "e9e28b16",
   "metadata": {},
   "source": [
    "Dữ liệu có tổng cộng **30809** dòng và **12** cột"
   ]
  },
  {
   "cell_type": "code",
   "execution_count": 4,
   "id": "ed633b83",
   "metadata": {},
   "outputs": [
    {
     "name": "stdout",
     "output_type": "stream",
     "text": [
      "30809\n",
      "12\n"
     ]
    }
   ],
   "source": [
    "shape = vaccinations.shape\n",
    "n_rows=shape[0]\n",
    "n_cols=shape[1]\n",
    "print(n_rows)\n",
    "print(n_cols)"
   ]
  },
  {
   "cell_type": "markdown",
   "id": "cc81adce",
   "metadata": {},
   "source": [
    "## Mỗi dòng có ý nghĩa gì? Có vấn đề các dòng có ý nghĩa khác nhau không?"
   ]
  },
  {
   "cell_type": "markdown",
   "id": "06a67911",
   "metadata": {},
   "source": [
    "Mỗi dòng cho biết số người đã tiêm vaccine, loại vaccine, đã tiêm đủ 2 mũi chưa cho trong các ngày được ghi nhận. Ngoài ra cũng có biết thêm thông tin số người bị bệnh theo tỉ lệ để thể hiện được quy mô của dịch bênh theo quốc gia, khu vực. Do các dòng đều được các tổ chức lớn thêm nên ít có dòng sai khác."
   ]
  },
  {
   "cell_type": "markdown",
   "id": "1851ee25",
   "metadata": {},
   "source": [
    "## Dữ liệu có các dòng bị lặp không?"
   ]
  },
  {
   "cell_type": "code",
   "execution_count": 5,
   "id": "fe158075",
   "metadata": {},
   "outputs": [
    {
     "data": {
      "text/plain": [
       "False"
      ]
     },
     "execution_count": 5,
     "metadata": {},
     "output_type": "execute_result"
    }
   ],
   "source": [
    "vaccinations[vaccinations.duplicated()].shape[0] != 0"
   ]
  },
  {
   "cell_type": "markdown",
   "id": "15bc402c",
   "metadata": {},
   "source": [
    "## Mỗi cột có ý nghĩa gì?¶"
   ]
  },
  {
   "cell_type": "markdown",
   "id": "fe4efcc1",
   "metadata": {},
   "source": [
    "**Ý nghĩa của từng cột:**\n",
    "- **location**: Tên quốc gia (hoặc vùng lãnh thổ trong 1 quốc gia(.\n",
    "- **iso_code**: ISO 3166-1  và 3 ký tự cuối là mã quốc gia.\n",
    "- **date**: Ngày quan trắc.\n",
    "- **total_vaccinations**: Tổng số liều đã được sử dụng. Đơn vị tính là liều đã tiêm, có thể không bằng tổng số người đã tiêm. Nếu một người tiêm một liều thì đếm tăng lên 1 đơn vị. Nếu họ tiêm liều thứ 2 thì cũng tăng thêm 1 đơn vị\n",
    "- **people_vaccinated**: Tổng số người nhận ít nhất một mũi tiêm. Nếu một người đã tiêm 1 mũi, thì đếm tăng lên 1 đơn vị. Nếu họ được tiêm liều thứ 2, thi giữ nguyên.\n",
    "- **people_fully_vaccinated**: Tổng số người đã tiêm đủ 2 liều vaccine. Nếu một người nhận đủ 2 liều vaccine, thì đếm tăng lên 1. Nếu học chỉ mới tiêm 1 liều thì giữ nguyên\n",
    "- **daily_vaccinations_raw**: Số lượng liều vaccine được sử dụng mỗi ngày, cập nhật theo ngày.\n",
    "- **daily_vaccintions**:Số lượng liều vaccine được sử dụng mỗi ngày, cập nhật theo ngày. Dữ liệu đã được chuẩn hóa hơn.\n",
    "- **total_vaccinations_per_hundred**: total_vaccinations trên 100 dân trong tổng dân số của quôc gia đó.\n",
    "- **people_vaccinated_per_hundred**: people_vaccinated trên 100 dân trong tổng dân số quốc gia đó.\n",
    "- **people_fully_vaccinated_per_hundred**: Tỗng số người đã được tiểm đủ 2 liều vaccine. Nếu một người tiêm liều đầu tiên thì giữ nguyên. Nếu họ nhận liều thứ 2, số liệu tính tăng thêm 1 đơn vị.\n",
    "- **daily_vaccinations_per_million**: daily_vaccintions trên 1,000,000 dân trong tổng dân số của quốc gia đó.\n",
    "\n",
    "**Note:**\\\n",
    "    - Mô tả trên được dịch từ bản [mô tả gốc](https://github.com/owid/covid-19-data/blob/master/public/data/vaccinations/README.md)"
   ]
  },
  {
   "cell_type": "markdown",
   "id": "db69bbb7",
   "metadata": {},
   "source": [
    "## Mỗi cột hiện đang có kiểu dữ liệu gì? Có cột nào có kiểu dữ liệu chưa phù hợp để có thể xử lý tiếp không?"
   ]
  },
  {
   "cell_type": "code",
   "execution_count": 6,
   "id": "37095078",
   "metadata": {},
   "outputs": [
    {
     "data": {
      "text/plain": [
       "location                                object\n",
       "iso_code                                object\n",
       "date                                    object\n",
       "total_vaccinations                     float64\n",
       "people_vaccinated                      float64\n",
       "people_fully_vaccinated                float64\n",
       "daily_vaccinations_raw                 float64\n",
       "daily_vaccinations                     float64\n",
       "total_vaccinations_per_hundred         float64\n",
       "people_vaccinated_per_hundred          float64\n",
       "people_fully_vaccinated_per_hundred    float64\n",
       "daily_vaccinations_per_million         float64\n",
       "dtype: object"
      ]
     },
     "execution_count": 6,
     "metadata": {},
     "output_type": "execute_result"
    }
   ],
   "source": [
    "vaccinations.dtypes"
   ]
  },
  {
   "cell_type": "markdown",
   "id": "ff1ece3b",
   "metadata": {},
   "source": [
    "**Nhận xét:**\n",
    "1. Cần chuyển cột date về kiểu dữ liệu dạng date"
   ]
  },
  {
   "cell_type": "markdown",
   "id": "6fabb7dc",
   "metadata": {},
   "source": [
    "## Số-lượng/tỉ-lệ các giá trị thiếu?"
   ]
  },
  {
   "cell_type": "code",
   "execution_count": 7,
   "id": "b9895868",
   "metadata": {},
   "outputs": [
    {
     "data": {
      "text/html": [
       "<div>\n",
       "<style scoped>\n",
       "    .dataframe tbody tr th:only-of-type {\n",
       "        vertical-align: middle;\n",
       "    }\n",
       "\n",
       "    .dataframe tbody tr th {\n",
       "        vertical-align: top;\n",
       "    }\n",
       "\n",
       "    .dataframe thead th {\n",
       "        text-align: right;\n",
       "    }\n",
       "</style>\n",
       "<table border=\"1\" class=\"dataframe\">\n",
       "  <thead>\n",
       "    <tr style=\"text-align: right;\">\n",
       "      <th></th>\n",
       "      <th>Number of null</th>\n",
       "      <th>Ratio of null</th>\n",
       "    </tr>\n",
       "  </thead>\n",
       "  <tbody>\n",
       "    <tr>\n",
       "      <th>location</th>\n",
       "      <td>0</td>\n",
       "      <td>0.000000</td>\n",
       "    </tr>\n",
       "    <tr>\n",
       "      <th>iso_code</th>\n",
       "      <td>0</td>\n",
       "      <td>0.000000</td>\n",
       "    </tr>\n",
       "    <tr>\n",
       "      <th>date</th>\n",
       "      <td>0</td>\n",
       "      <td>0.000000</td>\n",
       "    </tr>\n",
       "    <tr>\n",
       "      <th>total_vaccinations</th>\n",
       "      <td>12579</td>\n",
       "      <td>40.828979</td>\n",
       "    </tr>\n",
       "    <tr>\n",
       "      <th>people_vaccinated</th>\n",
       "      <td>13403</td>\n",
       "      <td>43.503522</td>\n",
       "    </tr>\n",
       "    <tr>\n",
       "      <th>people_fully_vaccinated</th>\n",
       "      <td>16378</td>\n",
       "      <td>53.159791</td>\n",
       "    </tr>\n",
       "    <tr>\n",
       "      <th>daily_vaccinations_raw</th>\n",
       "      <td>15388</td>\n",
       "      <td>49.946444</td>\n",
       "    </tr>\n",
       "    <tr>\n",
       "      <th>daily_vaccinations</th>\n",
       "      <td>288</td>\n",
       "      <td>0.934792</td>\n",
       "    </tr>\n",
       "    <tr>\n",
       "      <th>total_vaccinations_per_hundred</th>\n",
       "      <td>12579</td>\n",
       "      <td>40.828979</td>\n",
       "    </tr>\n",
       "    <tr>\n",
       "      <th>people_vaccinated_per_hundred</th>\n",
       "      <td>13403</td>\n",
       "      <td>43.503522</td>\n",
       "    </tr>\n",
       "    <tr>\n",
       "      <th>people_fully_vaccinated_per_hundred</th>\n",
       "      <td>16378</td>\n",
       "      <td>53.159791</td>\n",
       "    </tr>\n",
       "    <tr>\n",
       "      <th>daily_vaccinations_per_million</th>\n",
       "      <td>288</td>\n",
       "      <td>0.934792</td>\n",
       "    </tr>\n",
       "  </tbody>\n",
       "</table>\n",
       "</div>"
      ],
      "text/plain": [
       "                                     Number of null  Ratio of null\n",
       "location                                          0       0.000000\n",
       "iso_code                                          0       0.000000\n",
       "date                                              0       0.000000\n",
       "total_vaccinations                            12579      40.828979\n",
       "people_vaccinated                             13403      43.503522\n",
       "people_fully_vaccinated                       16378      53.159791\n",
       "daily_vaccinations_raw                        15388      49.946444\n",
       "daily_vaccinations                              288       0.934792\n",
       "total_vaccinations_per_hundred                12579      40.828979\n",
       "people_vaccinated_per_hundred                 13403      43.503522\n",
       "people_fully_vaccinated_per_hundred           16378      53.159791\n",
       "daily_vaccinations_per_million                  288       0.934792"
      ]
     },
     "execution_count": 7,
     "metadata": {},
     "output_type": "execute_result"
    }
   ],
   "source": [
    "number_of_null = vaccinations.isna().sum()\n",
    "ratio_of_null = vaccinations.isnull().sum() * 100 / len(vaccinations)\n",
    "\n",
    "number_ratio_of_null = pd.concat([number_of_null, ratio_of_null], axis=1)\n",
    "number_ratio_of_null.columns = [\"Number of null\", \"Ratio of null\"]\n",
    "\n",
    "number_ratio_of_null"
   ]
  },
  {
   "cell_type": "markdown",
   "id": "eba76bd0",
   "metadata": {},
   "source": [
    "## Tiền xử lý bỏ cột có giá trị thiếu nhiều và bỏ cột chúng tôi không hiểu rõ ý nghĩa"
   ]
  },
  {
   "cell_type": "markdown",
   "id": "fb96b148",
   "metadata": {},
   "source": [
    "**Nhận xét:**\n",
    "1. Cần chuyển cột date về kiểu dữ liệu dạng date\n",
    "2. Cột daily_vaccinations_raw có rất nhiều giá trị null, dữ liệu chưa được chuẩn hóa. Có thể thay thế bằng cột daily_vaccinations đã được tác giả chuẩn hóa sẵn\n",
    "3. Các cột people_fully_vaccinated, people_fully_vaccinated_per_hundred dữ liệu không rõ ràng, cần lược bỏ\n",
    "4. Các cột people_fully_vaccinated, total_vaccinations , total_vaccinations_per_hundred, people_vaccinated_per_hundred, daily_vaccinations có giá trị null nhiều cần điền đầy đủ \n",
    "5. Dữ liệu này không chỉ bao gồm các quốc mà còn thống kê theo vùng lãnh thổ, theo thu nhập. Nên chia dataset vaccinations ban đầu thành 3 phần, 1 của quốc gia cụ thể, 2 của vùng lãnh thổ, 3 theo thu nhập"
   ]
  },
  {
   "cell_type": "markdown",
   "id": "3b3d7a44",
   "metadata": {},
   "source": [
    "### Điều chỉnh kiểu dữ liệu cho phù hợp cho các cột"
   ]
  },
  {
   "cell_type": "markdown",
   "id": "5c9c3b6b",
   "metadata": {},
   "source": [
    "### 1. Chuyển dtype cột 'date' sang datetime"
   ]
  },
  {
   "cell_type": "code",
   "execution_count": 6,
   "id": "a34ac93d",
   "metadata": {},
   "outputs": [],
   "source": [
    "vaccinations['date']=pd.to_datetime(vaccinations['date'],format=\"%m/%d/%Y\")"
   ]
  },
  {
   "cell_type": "markdown",
   "id": "7f25e5de",
   "metadata": {},
   "source": [
    "### 2. Điền vào giá trị null của các cột\n",
    "Thực hiện với 6 cột sau:\n",
    "- Điền giá trị null dựa vào giá trị của ngày trước đó cùng cột:\n",
    "    1. people_vaccinated\n",
    "    2. total_vaccinations \n",
    "    3. total_vaccinations_per_hundred\n",
    "    4. people_vaccinated_per_hundred\n",
    "- Điền giá trị null dựa vào giá trị của ngày sau đó cùng cột\n",
    "    5. daily_vaccinations\n",
    "    6. daily_vaccinations_per_million"
   ]
  },
  {
   "cell_type": "code",
   "execution_count": 7,
   "id": "dfb0d038",
   "metadata": {},
   "outputs": [],
   "source": [
    "vaccinations['total_vaccinations'].fillna(method='ffill', inplace =True)\n",
    "vaccinations['people_vaccinated'].fillna(method='ffill', inplace =True)\n",
    "vaccinations['total_vaccinations_per_hundred'].fillna(method='ffill', inplace =True)\n",
    "vaccinations['people_vaccinated_per_hundred'].fillna(method='ffill', inplace =True)\n",
    "vaccinations['daily_vaccinations'].fillna(method='bfill', inplace =True)\n",
    "vaccinations['daily_vaccinations_per_million'].fillna(method='bfill', inplace =True)"
   ]
  },
  {
   "cell_type": "markdown",
   "id": "2e9e52ff",
   "metadata": {},
   "source": [
    "### 3. Loại bỏ các cột không rõ nghĩa, thiếu nhiều:\n",
    "Thực hiện với 3 cột sau:\n",
    "1. people_fully_vaccinated\n",
    "2. people_fully_vaccinated_per_hundred \n",
    "3. daily_vaccinations_raw"
   ]
  },
  {
   "cell_type": "code",
   "execution_count": 8,
   "id": "183d7c1f",
   "metadata": {},
   "outputs": [],
   "source": [
    "vaccinations.drop(columns=['people_fully_vaccinated','people_fully_vaccinated_per_hundred','daily_vaccinations_raw'],inplace =True)\n"
   ]
  },
  {
   "cell_type": "markdown",
   "id": "3f1e1da6",
   "metadata": {},
   "source": [
    "### 4. Chia dataset thành 3 thành phần:\n",
    "1. Vùng lãnh thổ\n",
    "2. Theo thu nhập\n",
    "3. Quốc gia cụ thể\n",
    "**Nhận xét:**\\\n",
    "    - Mã iso_code của vùng lãnh thổ thường bắt đầu bằng OWID\n",
    "    - Có vài quốc gia thuộc một liên minh hay tình trạng bất ổn được thống kê 2 lần cần loại bỏ"
   ]
  },
  {
   "cell_type": "markdown",
   "id": "945218eb",
   "metadata": {},
   "source": [
    "#### 4.1. Vùng lãnh thổ"
   ]
  },
  {
   "cell_type": "code",
   "execution_count": 10,
   "id": "751281b2",
   "metadata": {},
   "outputs": [
    {
     "data": {
      "text/plain": [
       "array(['Africa', 'Asia', 'England', 'Europe', 'European Union',\n",
       "       'High income', 'Kosovo', 'Low income', 'Lower middle income',\n",
       "       'North America', 'Northern Cyprus', 'Northern Ireland', 'Oceania',\n",
       "       'Scotland', 'South America', 'Upper middle income', 'Wales',\n",
       "       'World'], dtype=object)"
      ]
     },
     "execution_count": 10,
     "metadata": {},
     "output_type": "execute_result"
    }
   ],
   "source": [
    "# lấy các hàng dữ liệu thuộc về vùng lãnh thổ\n",
    "boolResult = vaccinations.apply(lambda x: 'OWID' in x['iso_code'],axis=1)\n",
    "vacc = vaccinations[boolResult]\n",
    "\n",
    "diffs,counts=np.unique(vacc['location'],return_counts=True)\n",
    "diffs"
   ]
  },
  {
   "cell_type": "markdown",
   "id": "9ca818b1",
   "metadata": {},
   "source": [
    "**Nhận xét**\n",
    "1. Các vùng lãnh thổ được liệt kê là: Africa, European Union, North America, Oceania, South America, World"
   ]
  },
  {
   "cell_type": "code",
   "execution_count": 11,
   "id": "0e5a80c5",
   "metadata": {},
   "outputs": [
    {
     "data": {
      "text/html": [
       "<div>\n",
       "<style scoped>\n",
       "    .dataframe tbody tr th:only-of-type {\n",
       "        vertical-align: middle;\n",
       "    }\n",
       "\n",
       "    .dataframe tbody tr th {\n",
       "        vertical-align: top;\n",
       "    }\n",
       "\n",
       "    .dataframe thead th {\n",
       "        text-align: right;\n",
       "    }\n",
       "</style>\n",
       "<table border=\"1\" class=\"dataframe\">\n",
       "  <thead>\n",
       "    <tr style=\"text-align: right;\">\n",
       "      <th></th>\n",
       "      <th>location</th>\n",
       "      <th>iso_code</th>\n",
       "      <th>date</th>\n",
       "      <th>total_vaccinations</th>\n",
       "      <th>people_vaccinated</th>\n",
       "      <th>daily_vaccinations</th>\n",
       "      <th>total_vaccinations_per_hundred</th>\n",
       "      <th>people_vaccinated_per_hundred</th>\n",
       "      <th>daily_vaccinations_per_million</th>\n",
       "    </tr>\n",
       "  </thead>\n",
       "  <tbody>\n",
       "    <tr>\n",
       "      <th>8803</th>\n",
       "      <td>Europe</td>\n",
       "      <td>OWID_EUR</td>\n",
       "      <td>2021-02-08</td>\n",
       "      <td>33756595.0</td>\n",
       "      <td>27321314.0</td>\n",
       "      <td>1103295.0</td>\n",
       "      <td>4.51</td>\n",
       "      <td>3.65</td>\n",
       "      <td>1474.0</td>\n",
       "    </tr>\n",
       "    <tr>\n",
       "      <th>8859</th>\n",
       "      <td>Europe</td>\n",
       "      <td>OWID_EUR</td>\n",
       "      <td>2021-04-05</td>\n",
       "      <td>138991335.0</td>\n",
       "      <td>102134963.0</td>\n",
       "      <td>2254595.0</td>\n",
       "      <td>18.56</td>\n",
       "      <td>13.64</td>\n",
       "      <td>3011.0</td>\n",
       "    </tr>\n",
       "    <tr>\n",
       "      <th>186</th>\n",
       "      <td>Africa</td>\n",
       "      <td>OWID_AFR</td>\n",
       "      <td>2021-03-07</td>\n",
       "      <td>5053898.0</td>\n",
       "      <td>4450336.0</td>\n",
       "      <td>168558.0</td>\n",
       "      <td>0.38</td>\n",
       "      <td>0.33</td>\n",
       "      <td>126.0</td>\n",
       "    </tr>\n",
       "    <tr>\n",
       "      <th>8900</th>\n",
       "      <td>Europe</td>\n",
       "      <td>OWID_EUR</td>\n",
       "      <td>2021-05-16</td>\n",
       "      <td>294471551.0</td>\n",
       "      <td>202874096.0</td>\n",
       "      <td>4450157.0</td>\n",
       "      <td>39.33</td>\n",
       "      <td>27.10</td>\n",
       "      <td>5944.0</td>\n",
       "    </tr>\n",
       "    <tr>\n",
       "      <th>187</th>\n",
       "      <td>Africa</td>\n",
       "      <td>OWID_AFR</td>\n",
       "      <td>2021-03-08</td>\n",
       "      <td>5402174.0</td>\n",
       "      <td>4724256.0</td>\n",
       "      <td>187189.0</td>\n",
       "      <td>0.40</td>\n",
       "      <td>0.35</td>\n",
       "      <td>140.0</td>\n",
       "    </tr>\n",
       "  </tbody>\n",
       "</table>\n",
       "</div>"
      ],
      "text/plain": [
       "     location  iso_code       date  total_vaccinations  people_vaccinated  \\\n",
       "8803   Europe  OWID_EUR 2021-02-08          33756595.0         27321314.0   \n",
       "8859   Europe  OWID_EUR 2021-04-05         138991335.0        102134963.0   \n",
       "186    Africa  OWID_AFR 2021-03-07           5053898.0          4450336.0   \n",
       "8900   Europe  OWID_EUR 2021-05-16         294471551.0        202874096.0   \n",
       "187    Africa  OWID_AFR 2021-03-08           5402174.0          4724256.0   \n",
       "\n",
       "      daily_vaccinations  total_vaccinations_per_hundred  \\\n",
       "8803           1103295.0                            4.51   \n",
       "8859           2254595.0                           18.56   \n",
       "186             168558.0                            0.38   \n",
       "8900           4450157.0                           39.33   \n",
       "187             187189.0                            0.40   \n",
       "\n",
       "      people_vaccinated_per_hundred  daily_vaccinations_per_million  \n",
       "8803                           3.65                          1474.0  \n",
       "8859                          13.64                          3011.0  \n",
       "186                            0.33                           126.0  \n",
       "8900                          27.10                          5944.0  \n",
       "187                            0.35                           140.0  "
      ]
     },
     "execution_count": 11,
     "metadata": {},
     "output_type": "execute_result"
    }
   ],
   "source": [
    "regions=np.array(['Africa', 'Asia', 'Europe', 'Oceania', 'South America', 'North America', 'World'])\n",
    "boolResult= vacc.apply(lambda x: x['location'] in regions, axis=1)\n",
    "regional_vacc= vacc[boolResult]\n",
    "regional_vacc.sample(5)"
   ]
  },
  {
   "cell_type": "markdown",
   "id": "47dd505b",
   "metadata": {},
   "source": [
    "#### 4.2. Theo thu nhập\n"
   ]
  },
  {
   "cell_type": "code",
   "execution_count": 12,
   "id": "93283d79",
   "metadata": {},
   "outputs": [
    {
     "data": {
      "text/html": [
       "<div>\n",
       "<style scoped>\n",
       "    .dataframe tbody tr th:only-of-type {\n",
       "        vertical-align: middle;\n",
       "    }\n",
       "\n",
       "    .dataframe tbody tr th {\n",
       "        vertical-align: top;\n",
       "    }\n",
       "\n",
       "    .dataframe thead th {\n",
       "        text-align: right;\n",
       "    }\n",
       "</style>\n",
       "<table border=\"1\" class=\"dataframe\">\n",
       "  <thead>\n",
       "    <tr style=\"text-align: right;\">\n",
       "      <th></th>\n",
       "      <th>location</th>\n",
       "      <th>iso_code</th>\n",
       "      <th>date</th>\n",
       "      <th>total_vaccinations</th>\n",
       "      <th>people_vaccinated</th>\n",
       "      <th>daily_vaccinations</th>\n",
       "      <th>total_vaccinations_per_hundred</th>\n",
       "      <th>people_vaccinated_per_hundred</th>\n",
       "      <th>daily_vaccinations_per_million</th>\n",
       "    </tr>\n",
       "  </thead>\n",
       "  <tbody>\n",
       "    <tr>\n",
       "      <th>11974</th>\n",
       "      <td>High income</td>\n",
       "      <td>OWID_HIC</td>\n",
       "      <td>2021-04-04</td>\n",
       "      <td>3.373198e+08</td>\n",
       "      <td>225399991.0</td>\n",
       "      <td>6091076.0</td>\n",
       "      <td>26.71</td>\n",
       "      <td>17.85</td>\n",
       "      <td>4822.0</td>\n",
       "    </tr>\n",
       "    <tr>\n",
       "      <th>11904</th>\n",
       "      <td>High income</td>\n",
       "      <td>OWID_HIC</td>\n",
       "      <td>2021-01-24</td>\n",
       "      <td>4.633090e+07</td>\n",
       "      <td>38155839.0</td>\n",
       "      <td>2622787.0</td>\n",
       "      <td>3.67</td>\n",
       "      <td>3.02</td>\n",
       "      <td>2076.0</td>\n",
       "    </tr>\n",
       "    <tr>\n",
       "      <th>29539</th>\n",
       "      <td>Upper middle income</td>\n",
       "      <td>OWID_UMC</td>\n",
       "      <td>2021-06-29</td>\n",
       "      <td>1.623704e+09</td>\n",
       "      <td>894537804.0</td>\n",
       "      <td>27731690.0</td>\n",
       "      <td>61.16</td>\n",
       "      <td>33.69</td>\n",
       "      <td>10446.0</td>\n",
       "    </tr>\n",
       "    <tr>\n",
       "      <th>29399</th>\n",
       "      <td>Upper middle income</td>\n",
       "      <td>OWID_UMC</td>\n",
       "      <td>2021-02-09</td>\n",
       "      <td>5.118797e+07</td>\n",
       "      <td>7363815.0</td>\n",
       "      <td>2760078.0</td>\n",
       "      <td>1.93</td>\n",
       "      <td>0.28</td>\n",
       "      <td>1040.0</td>\n",
       "    </tr>\n",
       "    <tr>\n",
       "      <th>29401</th>\n",
       "      <td>Upper middle income</td>\n",
       "      <td>OWID_UMC</td>\n",
       "      <td>2021-02-11</td>\n",
       "      <td>5.242991e+07</td>\n",
       "      <td>8245654.0</td>\n",
       "      <td>1718783.0</td>\n",
       "      <td>1.97</td>\n",
       "      <td>0.31</td>\n",
       "      <td>647.0</td>\n",
       "    </tr>\n",
       "  </tbody>\n",
       "</table>\n",
       "</div>"
      ],
      "text/plain": [
       "                  location  iso_code       date  total_vaccinations  \\\n",
       "11974          High income  OWID_HIC 2021-04-04        3.373198e+08   \n",
       "11904          High income  OWID_HIC 2021-01-24        4.633090e+07   \n",
       "29539  Upper middle income  OWID_UMC 2021-06-29        1.623704e+09   \n",
       "29399  Upper middle income  OWID_UMC 2021-02-09        5.118797e+07   \n",
       "29401  Upper middle income  OWID_UMC 2021-02-11        5.242991e+07   \n",
       "\n",
       "       people_vaccinated  daily_vaccinations  total_vaccinations_per_hundred  \\\n",
       "11974        225399991.0           6091076.0                           26.71   \n",
       "11904         38155839.0           2622787.0                            3.67   \n",
       "29539        894537804.0          27731690.0                           61.16   \n",
       "29399          7363815.0           2760078.0                            1.93   \n",
       "29401          8245654.0           1718783.0                            1.97   \n",
       "\n",
       "       people_vaccinated_per_hundred  daily_vaccinations_per_million  \n",
       "11974                          17.85                          4822.0  \n",
       "11904                           3.02                          2076.0  \n",
       "29539                          33.69                         10446.0  \n",
       "29399                           0.28                          1040.0  \n",
       "29401                           0.31                           647.0  "
      ]
     },
     "execution_count": 12,
     "metadata": {},
     "output_type": "execute_result"
    }
   ],
   "source": [
    "incomes=np.array(['High income', 'Low income', 'Lower middle income', 'Upper middle income'])\n",
    "boolResult= vacc.apply(lambda x: x['location'] in incomes, axis=1)\n",
    "income_vacc= vacc[boolResult]\n",
    "income_vacc.sample(5)"
   ]
  },
  {
   "cell_type": "markdown",
   "id": "af59a160",
   "metadata": {},
   "source": [
    "#### 4.3. Quốc gia cụ thể"
   ]
  },
  {
   "cell_type": "code",
   "execution_count": 13,
   "id": "930be738",
   "metadata": {},
   "outputs": [
    {
     "data": {
      "text/html": [
       "<div>\n",
       "<style scoped>\n",
       "    .dataframe tbody tr th:only-of-type {\n",
       "        vertical-align: middle;\n",
       "    }\n",
       "\n",
       "    .dataframe tbody tr th {\n",
       "        vertical-align: top;\n",
       "    }\n",
       "\n",
       "    .dataframe thead th {\n",
       "        text-align: right;\n",
       "    }\n",
       "</style>\n",
       "<table border=\"1\" class=\"dataframe\">\n",
       "  <thead>\n",
       "    <tr style=\"text-align: right;\">\n",
       "      <th></th>\n",
       "      <th>location</th>\n",
       "      <th>iso_code</th>\n",
       "      <th>date</th>\n",
       "      <th>total_vaccinations</th>\n",
       "      <th>people_vaccinated</th>\n",
       "      <th>daily_vaccinations</th>\n",
       "      <th>total_vaccinations_per_hundred</th>\n",
       "      <th>people_vaccinated_per_hundred</th>\n",
       "      <th>daily_vaccinations_per_million</th>\n",
       "    </tr>\n",
       "  </thead>\n",
       "  <tbody>\n",
       "    <tr>\n",
       "      <th>21223</th>\n",
       "      <td>Oman</td>\n",
       "      <td>OMN</td>\n",
       "      <td>2021-01-26</td>\n",
       "      <td>36206.0</td>\n",
       "      <td>24773.0</td>\n",
       "      <td>1165.0</td>\n",
       "      <td>0.71</td>\n",
       "      <td>0.49</td>\n",
       "      <td>228.0</td>\n",
       "    </tr>\n",
       "    <tr>\n",
       "      <th>21595</th>\n",
       "      <td>Palestine</td>\n",
       "      <td>PSE</td>\n",
       "      <td>2021-06-04</td>\n",
       "      <td>607122.0</td>\n",
       "      <td>372827.0</td>\n",
       "      <td>13150.0</td>\n",
       "      <td>11.90</td>\n",
       "      <td>7.31</td>\n",
       "      <td>2578.0</td>\n",
       "    </tr>\n",
       "    <tr>\n",
       "      <th>1815</th>\n",
       "      <td>Australia</td>\n",
       "      <td>AUS</td>\n",
       "      <td>2021-05-09</td>\n",
       "      <td>2654338.0</td>\n",
       "      <td>162551.0</td>\n",
       "      <td>57181.0</td>\n",
       "      <td>10.41</td>\n",
       "      <td>0.64</td>\n",
       "      <td>2242.0</td>\n",
       "    </tr>\n",
       "    <tr>\n",
       "      <th>9778</th>\n",
       "      <td>France</td>\n",
       "      <td>FRA</td>\n",
       "      <td>2021-04-12</td>\n",
       "      <td>15115069.0</td>\n",
       "      <td>11284068.0</td>\n",
       "      <td>343531.0</td>\n",
       "      <td>22.37</td>\n",
       "      <td>16.70</td>\n",
       "      <td>5085.0</td>\n",
       "    </tr>\n",
       "    <tr>\n",
       "      <th>19860</th>\n",
       "      <td>New Zealand</td>\n",
       "      <td>NZL</td>\n",
       "      <td>2021-06-24</td>\n",
       "      <td>1069552.0</td>\n",
       "      <td>662609.0</td>\n",
       "      <td>18453.0</td>\n",
       "      <td>22.18</td>\n",
       "      <td>13.74</td>\n",
       "      <td>3827.0</td>\n",
       "    </tr>\n",
       "  </tbody>\n",
       "</table>\n",
       "</div>"
      ],
      "text/plain": [
       "          location iso_code       date  total_vaccinations  people_vaccinated  \\\n",
       "21223         Oman      OMN 2021-01-26             36206.0            24773.0   \n",
       "21595    Palestine      PSE 2021-06-04            607122.0           372827.0   \n",
       "1815     Australia      AUS 2021-05-09           2654338.0           162551.0   \n",
       "9778        France      FRA 2021-04-12          15115069.0         11284068.0   \n",
       "19860  New Zealand      NZL 2021-06-24           1069552.0           662609.0   \n",
       "\n",
       "       daily_vaccinations  total_vaccinations_per_hundred  \\\n",
       "21223              1165.0                            0.71   \n",
       "21595             13150.0                           11.90   \n",
       "1815              57181.0                           10.41   \n",
       "9778             343531.0                           22.37   \n",
       "19860             18453.0                           22.18   \n",
       "\n",
       "       people_vaccinated_per_hundred  daily_vaccinations_per_million  \n",
       "21223                           0.49                           228.0  \n",
       "21595                           7.31                          2578.0  \n",
       "1815                            0.64                          2242.0  \n",
       "9778                           16.70                          5085.0  \n",
       "19860                          13.74                          3827.0  "
      ]
     },
     "execution_count": 13,
     "metadata": {},
     "output_type": "execute_result"
    }
   ],
   "source": [
    "# lấy các hàng dữ liệu thuộc về quốc gia\n",
    "boolResult = vaccinations.apply(lambda x: 'OWID' not in x['iso_code'],axis=1)\n",
    "national_vacc = vaccinations[boolResult]\n",
    "national_vacc.sample(5)"
   ]
  },
  {
   "cell_type": "markdown",
   "id": "a9309538",
   "metadata": {},
   "source": [
    "### Xem lại dữ liệu sau khi đã điều chỉnh"
   ]
  },
  {
   "cell_type": "code",
   "execution_count": 14,
   "id": "4832c405",
   "metadata": {},
   "outputs": [
    {
     "data": {
      "text/plain": [
       "location                                  object\n",
       "iso_code                                  object\n",
       "date                              datetime64[ns]\n",
       "total_vaccinations                       float64\n",
       "people_vaccinated                        float64\n",
       "daily_vaccinations                       float64\n",
       "total_vaccinations_per_hundred           float64\n",
       "people_vaccinated_per_hundred            float64\n",
       "daily_vaccinations_per_million           float64\n",
       "dtype: object"
      ]
     },
     "execution_count": 14,
     "metadata": {},
     "output_type": "execute_result"
    }
   ],
   "source": [
    "vaccinations.dtypes"
   ]
  },
  {
   "cell_type": "markdown",
   "id": "4b527c6e",
   "metadata": {},
   "source": [
    "## Với mỗi cột có kiểu dữ liệu dạng số (numeric), các giá trị được phân bố như thế nào?"
   ]
  },
  {
   "cell_type": "code",
   "execution_count": 17,
   "id": "fd685462",
   "metadata": {},
   "outputs": [
    {
     "data": {
      "text/html": [
       "<div>\n",
       "<style scoped>\n",
       "    .dataframe tbody tr th:only-of-type {\n",
       "        vertical-align: middle;\n",
       "    }\n",
       "\n",
       "    .dataframe tbody tr th {\n",
       "        vertical-align: top;\n",
       "    }\n",
       "\n",
       "    .dataframe thead th {\n",
       "        text-align: right;\n",
       "    }\n",
       "</style>\n",
       "<table border=\"1\" class=\"dataframe\">\n",
       "  <thead>\n",
       "    <tr style=\"text-align: right;\">\n",
       "      <th></th>\n",
       "      <th>date</th>\n",
       "    </tr>\n",
       "  </thead>\n",
       "  <tbody>\n",
       "    <tr>\n",
       "      <th>min</th>\n",
       "      <td>2020-12-02</td>\n",
       "    </tr>\n",
       "    <tr>\n",
       "      <th>max</th>\n",
       "      <td>2021-07-03</td>\n",
       "    </tr>\n",
       "  </tbody>\n",
       "</table>\n",
       "</div>"
      ],
      "text/plain": [
       "          date\n",
       "min 2020-12-02\n",
       "max 2021-07-03"
      ]
     },
     "execution_count": 17,
     "metadata": {},
     "output_type": "execute_result"
    }
   ],
   "source": [
    "national_vacc[['date',]].agg([min,max])"
   ]
  },
  {
   "cell_type": "markdown",
   "id": "9a721721",
   "metadata": {},
   "source": [
    "Vì các dòng dữ liệu là thống kê chương trình vaccine của từng quốc gia, khu vực, dược quan trắc từng ngày từ ngày triển khai đến thời điểm cập nhật gần nhất. Nên ta chọn 1 mốc là ngày **01/06/2021** để xem phân bố của các giá trị (ở mốc này đầy đủ nhất các quốc gia cung cấp và cập nhật số liệu) "
   ]
  },
  {
   "cell_type": "code",
   "execution_count": 18,
   "id": "3a724505",
   "metadata": {
    "scrolled": true
   },
   "outputs": [
    {
     "data": {
      "text/html": [
       "<div>\n",
       "<style scoped>\n",
       "    .dataframe tbody tr th:only-of-type {\n",
       "        vertical-align: middle;\n",
       "    }\n",
       "\n",
       "    .dataframe tbody tr th {\n",
       "        vertical-align: top;\n",
       "    }\n",
       "\n",
       "    .dataframe thead th {\n",
       "        text-align: right;\n",
       "    }\n",
       "</style>\n",
       "<table border=\"1\" class=\"dataframe\">\n",
       "  <thead>\n",
       "    <tr style=\"text-align: right;\">\n",
       "      <th></th>\n",
       "      <th>total_vaccinations</th>\n",
       "      <th>people_vaccinated</th>\n",
       "    </tr>\n",
       "  </thead>\n",
       "  <tbody>\n",
       "    <tr>\n",
       "      <th>max</th>\n",
       "      <td>6.819080e+08</td>\n",
       "      <td>1.695852e+08</td>\n",
       "    </tr>\n",
       "    <tr>\n",
       "      <th>min</th>\n",
       "      <td>0.000000e+00</td>\n",
       "      <td>0.000000e+00</td>\n",
       "    </tr>\n",
       "    <tr>\n",
       "      <th>mean</th>\n",
       "      <td>9.828503e+06</td>\n",
       "      <td>4.311474e+06</td>\n",
       "    </tr>\n",
       "    <tr>\n",
       "      <th>sum</th>\n",
       "      <td>1.985358e+09</td>\n",
       "      <td>8.709177e+08</td>\n",
       "    </tr>\n",
       "  </tbody>\n",
       "</table>\n",
       "</div>"
      ],
      "text/plain": [
       "      total_vaccinations  people_vaccinated\n",
       "max         6.819080e+08       1.695852e+08\n",
       "min         0.000000e+00       0.000000e+00\n",
       "mean        9.828503e+06       4.311474e+06\n",
       "sum         1.985358e+09       8.709177e+08"
      ]
     },
     "execution_count": 18,
     "metadata": {},
     "output_type": "execute_result"
    }
   ],
   "source": [
    "cur_date= pd.to_datetime('2021/06/01', format='%Y/%m/%d')\n",
    "temp= national_vacc[national_vacc['date']==cur_date]\n",
    "temp[['total_vaccinations','people_vaccinated']].agg([max,min,'mean','sum'])\n"
   ]
  },
  {
   "cell_type": "markdown",
   "id": "d98b9d90",
   "metadata": {},
   "source": [
    "Nhìn vào số liệu trên, đến ngày 01/06/2021 đã có gần 2 tỷ liều vaccine đã được sử dụng. Số người được tiêm ít nhất một mũi là 871 triệu người. Số lượng vaccine nhiều nhất mà 1 quốc gia đã sử dụng là 682 triệu liều. Và  số người tiêm chủng ít nhất một liều nhiều nhất của 1 quốc gia là gần 170 triệu"
   ]
  },
  {
   "cell_type": "code",
   "execution_count": 20,
   "id": "3b38c5ce",
   "metadata": {},
   "outputs": [
    {
     "data": {
      "text/html": [
       "<div>\n",
       "<style scoped>\n",
       "    .dataframe tbody tr th:only-of-type {\n",
       "        vertical-align: middle;\n",
       "    }\n",
       "\n",
       "    .dataframe tbody tr th {\n",
       "        vertical-align: top;\n",
       "    }\n",
       "\n",
       "    .dataframe thead th {\n",
       "        text-align: right;\n",
       "    }\n",
       "</style>\n",
       "<table border=\"1\" class=\"dataframe\">\n",
       "  <thead>\n",
       "    <tr style=\"text-align: right;\">\n",
       "      <th></th>\n",
       "      <th>total_vaccinations_per_hundred</th>\n",
       "      <th>people_vaccinated_per_hundred</th>\n",
       "      <th>daily_vaccinations</th>\n",
       "      <th>daily_vaccinations_per_million</th>\n",
       "    </tr>\n",
       "  </thead>\n",
       "  <tbody>\n",
       "    <tr>\n",
       "      <th>min</th>\n",
       "      <td>0.000000</td>\n",
       "      <td>0.000000</td>\n",
       "      <td>0.000000e+00</td>\n",
       "      <td>0.000000</td>\n",
       "    </tr>\n",
       "    <tr>\n",
       "      <th>max</th>\n",
       "      <td>230.090000</td>\n",
       "      <td>116.000000</td>\n",
       "      <td>1.931343e+07</td>\n",
       "      <td>31940.000000</td>\n",
       "    </tr>\n",
       "    <tr>\n",
       "      <th>mean</th>\n",
       "      <td>33.363465</td>\n",
       "      <td>21.224703</td>\n",
       "      <td>1.692522e+05</td>\n",
       "      <td>3923.940594</td>\n",
       "    </tr>\n",
       "  </tbody>\n",
       "</table>\n",
       "</div>"
      ],
      "text/plain": [
       "      total_vaccinations_per_hundred  people_vaccinated_per_hundred  \\\n",
       "min                         0.000000                       0.000000   \n",
       "max                       230.090000                     116.000000   \n",
       "mean                       33.363465                      21.224703   \n",
       "\n",
       "      daily_vaccinations  daily_vaccinations_per_million  \n",
       "min         0.000000e+00                        0.000000  \n",
       "max         1.931343e+07                    31940.000000  \n",
       "mean        1.692522e+05                     3923.940594  "
      ]
     },
     "execution_count": 20,
     "metadata": {},
     "output_type": "execute_result"
    }
   ],
   "source": [
    "cur_date= pd.to_datetime('2021/06/01', format='%Y/%m/%d')\n",
    "temp= national_vacc[national_vacc['date']==cur_date]\n",
    "temp[['total_vaccinations_per_hundred','people_vaccinated_per_hundred','daily_vaccinations','daily_vaccinations_per_million']].agg([min,max,'mean'])\n"
   ]
  },
  {
   "cell_type": "code",
   "execution_count": null,
   "id": "469d5be2",
   "metadata": {},
   "outputs": [],
   "source": []
  },
  {
   "cell_type": "markdown",
   "id": "66a24860",
   "metadata": {},
   "source": [
    "## Với mỗi cột có kiểu dữ liệu dạng phân loại (categorical), các giá trị được phân bố như thế nào?"
   ]
  },
  {
   "cell_type": "markdown",
   "id": "41c54fda",
   "metadata": {},
   "source": [
    "Có 2 cột dữ liệu dạng phân loại là **location**, **iso_code**. Số lượng dòng dữ liệu từng quốc gia cho biết số ngày quốc gia đó đã triển khai chương trinh tiêm chủng quốc gia."
   ]
  },
  {
   "cell_type": "code",
   "execution_count": 27,
   "id": "95e28cc3",
   "metadata": {},
   "outputs": [
    {
     "name": "stdout",
     "output_type": "stream",
     "text": [
      "211\n"
     ]
    }
   ],
   "source": [
    "diffs,counts=np.unique(national_vacc['location'],return_counts=True)\n",
    "print(len(diffs))"
   ]
  },
  {
   "cell_type": "markdown",
   "id": "8ef8c66a",
   "metadata": {},
   "source": [
    "Vaccine đã tiếp cận được với 211 quốc gia"
   ]
  },
  {
   "cell_type": "markdown",
   "id": "fca1dcf1",
   "metadata": {},
   "source": [
    "---\n"
   ]
  },
  {
   "cell_type": "markdown",
   "id": "832966af",
   "metadata": {},
   "source": [
    "# Xác định các câu hỏi"
   ]
  },
  {
   "cell_type": "markdown",
   "id": "4c977362",
   "metadata": {},
   "source": []
  },
  {
   "cell_type": "markdown",
   "id": "91fb16a6",
   "metadata": {},
   "source": [
    "## Câu hỏi là gì?"
   ]
  },
  {
   "cell_type": "code",
   "execution_count": null,
   "id": "04ad0704",
   "metadata": {},
   "outputs": [],
   "source": []
  },
  {
   "cell_type": "markdown",
   "id": "cbfbf43b",
   "metadata": {},
   "source": [
    "## Nếu trả lời được câu hỏi thì sẽ có lợi ích gì?"
   ]
  },
  {
   "cell_type": "code",
   "execution_count": null,
   "id": "3180396b",
   "metadata": {},
   "outputs": [],
   "source": []
  },
  {
   "cell_type": "markdown",
   "id": "9efef7ab",
   "metadata": {},
   "source": [
    "---\n"
   ]
  },
  {
   "cell_type": "markdown",
   "id": "f2c6ecad",
   "metadata": {},
   "source": [
    "# Phân tích để trả lời"
   ]
  },
  {
   "cell_type": "code",
   "execution_count": null,
   "id": "c72adfd3",
   "metadata": {},
   "outputs": [],
   "source": []
  },
  {
   "cell_type": "markdown",
   "id": "a9c0a347",
   "metadata": {},
   "source": [
    "---\n"
   ]
  },
  {
   "cell_type": "markdown",
   "id": "9d89c5a0",
   "metadata": {},
   "source": [
    "# Nhìn lại quá trình làm đồ án"
   ]
  },
  {
   "cell_type": "code",
   "execution_count": null,
   "id": "a9462acc",
   "metadata": {},
   "outputs": [],
   "source": []
  },
  {
   "cell_type": "markdown",
   "id": "938671c8",
   "metadata": {},
   "source": [
    "---\n"
   ]
  },
  {
   "cell_type": "markdown",
   "id": "4255a084",
   "metadata": {},
   "source": [
    "# Tài liệu tham khảo"
   ]
  },
  {
   "cell_type": "code",
   "execution_count": null,
   "id": "c7898db3",
   "metadata": {},
   "outputs": [],
   "source": []
  }
 ],
 "metadata": {
  "kernelspec": {
   "display_name": "Python 3",
   "language": "python",
   "name": "python3"
  },
  "language_info": {
   "codemirror_mode": {
    "name": "ipython",
    "version": 3
   },
   "file_extension": ".py",
   "mimetype": "text/x-python",
   "name": "python",
   "nbconvert_exporter": "python",
   "pygments_lexer": "ipython3",
   "version": "3.8.8"
  }
 },
 "nbformat": 4,
 "nbformat_minor": 5
}
